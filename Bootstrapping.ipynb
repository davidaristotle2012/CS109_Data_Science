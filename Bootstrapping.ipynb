{
 "cells": [
  {
   "cell_type": "markdown",
   "metadata": {},
   "source": [
    "# Resampling: Bootstrap\n",
    "#### sampling with replacement\n"
   ]
  },
  {
   "cell_type": "code",
   "execution_count": 1,
   "metadata": {
    "collapsed": true
   },
   "outputs": [],
   "source": [
    "from collections import Counter\n",
    "\n",
    "import numpy as np\n",
    "import pandas as pd\n",
    "import scipy.stats as stats\n",
    "import pylab as pl\n",
    "\n",
    "np.random.seed(13)"
   ]
  },
  {
   "cell_type": "markdown",
   "metadata": {},
   "source": [
    "### What's Resampling?"
   ]
  },
  {
   "cell_type": "code",
   "execution_count": 2,
   "metadata": {},
   "outputs": [
    {
     "data": {
      "text/plain": [
       "Counter({0: 4, 1: 1, 2: 6, 3: 1})"
      ]
     },
     "execution_count": 2,
     "metadata": {},
     "output_type": "execute_result"
    }
   ],
   "source": [
    "dat = np.random.choice(4, 12)\n",
    "Counter(dat)"
   ]
  },
  {
   "cell_type": "code",
   "execution_count": 3,
   "metadata": {},
   "outputs": [
    {
     "data": {
      "text/plain": [
       "Counter({0: 2, 2: 9, 3: 1})"
      ]
     },
     "execution_count": 3,
     "metadata": {},
     "output_type": "execute_result"
    }
   ],
   "source": [
    "w_rep = np.random.choice(dat, 12, replace=True)\n",
    "Counter(w_rep)"
   ]
  },
  {
   "cell_type": "code",
   "execution_count": 4,
   "metadata": {},
   "outputs": [
    {
     "data": {
      "text/plain": [
       "Counter({0: 4, 1: 1, 2: 6, 3: 1})"
      ]
     },
     "execution_count": 4,
     "metadata": {},
     "output_type": "execute_result"
    }
   ],
   "source": [
    "wo_rep = np.random.choice(dat.ravel(), 12, replace=False)\n",
    "Counter(wo_rep)"
   ]
  },
  {
   "cell_type": "markdown",
   "metadata": {},
   "source": [
    "### What's bootstrapping?\n",
    "It's a statistical technique for determining accuracy of sample estimates. It's commonly used to estimate the distribution of a population based on a sample.\n",
    "\n",
    "https://www.stat.auckland.ac.nz/~wild/BootAnim/movies/bootstrap1.mp4\n",
    "\n",
    "https://www.stat.auckland.ac.nz/~wild/BootAnim/movies/bootstrap1-2.mp4"
   ]
  },
  {
   "cell_type": "markdown",
   "metadata": {},
   "source": [
    "### Why does it work?\n",
    "- If don't have enough data to make inferences about *population* (or a way to collect more data), but we still want to answer a question, we use resampling to ask the question many times, in order to see how consistent are the answers that we get based on available data.\n",
    "- It means that we use a *sample* to answer the question based on resampled data. When we use bootstrap resampling, the *population* is in fact the sample, and is known. \n",
    "- Hence the quality of inference of the 'true' sample from resampled data can be measured."
   ]
  },
  {
   "cell_type": "markdown",
   "metadata": {},
   "source": [
    "### Is there an easier way to understand bootstrapping?\n",
    "Let's say you work in a chocolate factory (great success). Your boss asks you to guarantee that all candy bars have a particular mean weight. Since you aren't very keen on weighing every candy bar that the factory produces, you want to use sampling techniques to randomly choose 100 candy bars. You calculate the mean weight of these 100 candy bars, and say that the population mean falls within a margin of error from the mean of your sample.\n",
    "\n",
    "Suppose that a few months later we want to know with greater accuracy (less of a margin of error) - what the mean candy bar weight was on the day that we sampled the production line. We cannot use today’s candy bars, as too many variables have entered the picture (different batches of milk, sugar and cocoa beans, different atmospheric conditions, different employees on the line, etc.). All that we have from the day that we are curious about are the 100 weights. Without a time machine back to that day, it would seem that the initial margin of error is the best that we can hope for.\n",
    "\n",
    "Fortunately we can use the technique of bootstrapping. In this situation we randomly sample with replacement  from the 100 known weights. We then call this a bootstrap sample. Since we allow for replacement, this bootstrap sample most likely not identical to our initial sample. Some data points may be duplicated, and others data points from the initial 100 may be omitted in a bootstrap sample. With the help of a computer, thousands of bootstrap samples can be constructed in a relatively short time."
   ]
  },
  {
   "cell_type": "code",
   "execution_count": 5,
   "metadata": {},
   "outputs": [
    {
     "data": {
      "image/png": "[encoded data removed]",
      "text/plain": [
       "<matplotlib.figure.Figure at 0x7f1164b85da0>"
      ]
     },
     "metadata": {},
     "output_type": "display_data"
    }
   ],
   "source": [
    "ex1_dat = np.random.normal(loc=3, scale=5, size=1000)\n",
    "ex1_dat.sort()\n",
    "pl.hist(ex1_dat, bins=20, normed=True)\n",
    "pl.show()"
   ]
  },
  {
   "cell_type": "code",
   "execution_count": 6,
   "metadata": {},
   "outputs": [
    {
     "name": "stdout",
     "output_type": "stream",
     "text": [
      "Original mean: 2.84761286917314\n",
      "Sample mean: 2.602533263547629\n"
     ]
    }
   ],
   "source": [
    "def bootstrap_resample(arr, n): \n",
    "    return np.random.choice(arr, n)\n",
    "\n",
    "sample = bootstrap_resample(ex1_dat, 100)\n",
    "print('Original mean: {}'.format(np.mean(ex1_dat)))\n",
    "print('Sample mean: {}'.format(np.mean(sample)))"
   ]
  },
  {
   "cell_type": "code",
   "execution_count": 7,
   "metadata": {},
   "outputs": [
    {
     "data": {
      "image/png": "[encoded data removed]",
      "text/plain": [
       "<matplotlib.figure.Figure at 0x7f116284c240>"
      ]
     },
     "metadata": {},
     "output_type": "display_data"
    }
   ],
   "source": [
    "fit_sam = stats.norm.pdf(ex1_dat, np.mean(sample), np.std(sample))\n",
    "fit = stats.norm.pdf(ex1_dat, np.mean(ex1_dat), np.std(ex1_dat))\n",
    "pl.plot(ex1_dat, fit_sam, 'o', markersize=0.4)\n",
    "pl.plot(ex1_dat, fit, 'o', markersize=0.4)\n",
    "pl.hist(ex1_dat, bins=20, normed=True)\n",
    "pl.show()"
   ]
  },
  {
   "cell_type": "markdown",
   "metadata": {},
   "source": [
    "Notes for advanced students:\n",
    "\n",
    "- More samples != more information\n",
    "\n",
    "- If population lacks a finite variance (ex. power law distribution), then bootstrap doesn't converge to the same limit as the sample mean"
   ]
  }
 ],
 "metadata": {
  "kernelspec": {
   "display_name": "Python 3",
   "language": "python",
   "name": "python3"
  },
  "language_info": {
   "codemirror_mode": {
    "name": "ipython",
    "version": 3
   },
   "file_extension": ".py",
   "mimetype": "text/x-python",
   "name": "python",
   "nbconvert_exporter": "python",
   "pygments_lexer": "ipython3",
   "version": "3.6.1"
  }
 },
 "nbformat": 4,
 "nbformat_minor": 1
}
