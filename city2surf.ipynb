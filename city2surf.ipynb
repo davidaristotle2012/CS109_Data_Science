{
 "cells": [
  {
   "cell_type": "markdown",
   "metadata": {},
   "source": [
    "a bs4 and requests excercise to scrape all the results from [City2Surf](http://city2surf.com.au/past-results/) and put them into a pandas df, then do some data analysis.\n",
    "\n",
    "_work in progress_"
   ]
  },
  {
   "cell_type": "code",
   "execution_count": 171,
   "metadata": {
    "collapsed": true
   },
   "outputs": [],
   "source": [
    "import requests\n",
    "from bs4 import BeautifulSoup\n",
    "from tqdm import tqdm\n",
    "import re\n",
    "\n",
    "import numpy as np\n",
    "import pandas as pd\n",
    "%matplotlib inline\n",
    "import matplotlib.pyplot as plt\n",
    "\n",
    "from IPython.core.display import HTML"
   ]
  },
  {
   "cell_type": "markdown",
   "metadata": {},
   "source": [
    "## links to all the past result pages\n",
    "\n",
    "Now to go through each years link in the past results page, then click on results, scrape result, and keep clicking more until all results are scraped."
   ]
  },
  {
   "cell_type": "code",
   "execution_count": 67,
   "metadata": {
    "collapsed": true
   },
   "outputs": [],
   "source": [
    "r = requests.get(\"http://city2surf.com.au/past-results/\")"
   ]
  },
  {
   "cell_type": "code",
   "execution_count": 98,
   "metadata": {},
   "outputs": [],
   "source": [
    "soup = BeautifulSoup(r.text, \"lxml\")"
   ]
  },
  {
   "cell_type": "code",
   "execution_count": 139,
   "metadata": {},
   "outputs": [
    {
     "name": "stdout",
     "output_type": "stream",
     "text": [
      "https://secure.tiktok.biz/results/city2surf/2017\n",
      "https://secure.tiktok.biz/results/city2surf/2016\n",
      "https://secure.tiktok.biz/results/city2surf/2015/\n",
      "https://secure.tiktok.biz/results/city2surf/2014/\n",
      "https://secure.tiktok.biz/results/city2surf/2013/\n",
      "https://secure.tiktok.biz/results/city2surf/2012/\n",
      "https://secure.tiktok.biz/results/city2surf/2011/\n",
      "https://secure.tiktok.biz/results/city2surf/2010/\n",
      "https://secure.tiktok.biz/results/city2surf/2009/\n",
      "https://secure.tiktok.biz/results/city2surf/2008/\n",
      "https://secure.tiktok.biz/results/city2surf/2007/\n",
      "https://secure.tiktok.biz/results/city2surf/2006\n",
      "https://secure.tiktok.biz/results/city2surf/2005/\n",
      "https://secure.tiktok.biz/results/city2surf/2004/\n",
      "https://secure.tiktok.biz/results/city2surf/2003/\n",
      "https://secure.tiktok.biz/results/city2surf/2002/\n",
      "https://secure.tiktok.biz/results/city2surf/2001/\n",
      "https://secure.tiktok.biz/results/city2surf/2000/\n"
     ]
    }
   ],
   "source": [
    "# get all the links\n",
    "all_links = soup.find_all(\"a\")\n",
    "\n",
    "# we only want the results links\n",
    "links = [link[\"href\"] for link in all_links if \"https://secure.tiktok.biz/results/city2surf/\" in str(link)]\n",
    "\n",
    "# the 2017 url isn't listed, so inserting manually\n",
    "links.insert(0, \"https://secure.tiktok.biz/results/city2surf/2017\")\n",
    "\n",
    "for link in links:\n",
    "    print(link)"
   ]
  },
  {
   "cell_type": "markdown",
   "metadata": {},
   "source": [
    "All the links look good, but each of those links further links to the actual results. So lets take a look at an example results page:"
   ]
  },
  {
   "cell_type": "code",
   "execution_count": 144,
   "metadata": {},
   "outputs": [
    {
     "data": {
      "text/html": [
       "<table border=\"0\" class=\"table table-striped table-hover\" id=\"pagePlaceHolder_resTable\">\n",
       "<tr>\n",
       "<th>Race</th><th class=\"hidden-480 text-right\" width=\"8%\">Entrants</th><th class=\"hidden-480 text-right\" width=\"8%\">Finishers</th><th class=\"hidden-480 text-center\" width=\"8%\">1st Male</th><th class=\"hidden-480 text-center\" width=\"8%\">1st Fml.</th><th class=\"hidden-480 text-center\" width=\"8%\">Avg Time</th><th class=\"hidden-480 text-right\" width=\"5%\"></th>\n",
       "</tr><tr>\n",
       "<td><a href=\"../../list.aspx?eventid=city2surf&amp;edition=2003&amp;race=14KM\">The Sun-Herald City2Surf</a></td><td class=\"hidden-480 text-right\">58,444</td><td class=\"hidden-480 text-right\">48,251</td><td class=\"hidden-480 text-center\">00:41:55</td><td class=\"hidden-480 text-center\">00:47:28</td><td class=\"hidden-480 text-center\">01:57:02</td><td class=\"hidden-480 text-right\" width=\"5%\"><a class=\"btn green btn-xs\" href=\"../../list.aspx?eventid=city2surf&amp;edition=2003&amp;race=14KM\"><i class=\"fa fa-list-ol\"></i> results</a></td>\n",
       "</tr>\n",
       "</table>"
      ],
      "text/plain": [
       "<IPython.core.display.HTML object>"
      ]
     },
     "execution_count": 144,
     "metadata": {},
     "output_type": "execute_result"
    }
   ],
   "source": [
    "soup = BeautifulSoup(requests.get(\"https://secure.tiktok.biz/results/city2surf/2003/\").content, \"lxml\")\n",
    "HTML(str(soup.find(\"table\")))"
   ]
  },
  {
   "cell_type": "markdown",
   "metadata": {},
   "source": [
    "So now to go through all the above links and get the link we want, which just happens to the best first link of the first table on the results page:"
   ]
  },
  {
   "cell_type": "code",
   "execution_count": 190,
   "metadata": {},
   "outputs": [],
   "source": [
    "results_links = []\n",
    "for link in links:\n",
    "    soup = BeautifulSoup(requests.get(link).content, \"lxml\")\n",
    "    table = soup.find(\"table\")\n",
    "    url = [l[\"href\"] for l in table.find_all(\"a\")][0]\n",
    "    # remove \"../\" patterns from url\n",
    "    url = url.replace(\"../\", \"\")\n",
    "    results_links.append(\"https://secure.tiktok.biz/results/\" + url)"
   ]
  },
  {
   "cell_type": "code",
   "execution_count": 191,
   "metadata": {},
   "outputs": [
    {
     "data": {
      "text/plain": [
       "['https://secure.tiktok.biz/results/list.aspx?eventid=city2surf&edition=2017&race=14KM',\n",
       " 'https://secure.tiktok.biz/results/list.aspx?eventid=city2surf&edition=2016&race=14KM',\n",
       " 'https://secure.tiktok.biz/results/list.aspx?eventid=city2surf&edition=2015&race=14KM',\n",
       " 'https://secure.tiktok.biz/results/list.aspx?eventid=city2surf&edition=2014&race=14KM',\n",
       " 'https://secure.tiktok.biz/results/list.aspx?eventid=city2surf&edition=2013&race=C2S',\n",
       " 'https://secure.tiktok.biz/results/list.aspx?eventid=city2surf&edition=2012&race=C2S',\n",
       " 'https://secure.tiktok.biz/results/list.aspx?eventid=city2surf&edition=2011&race=C2S',\n",
       " 'https://secure.tiktok.biz/results/list.aspx?eventid=city2surf&edition=2010&race=C2S',\n",
       " 'https://secure.tiktok.biz/results/list.aspx?eventid=city2surf&edition=2009&race=C2S',\n",
       " 'https://secure.tiktok.biz/results/list.aspx?eventid=city2surf&edition=2008&race=14KM',\n",
       " 'https://secure.tiktok.biz/results/list.aspx?eventid=city2surf&edition=2007&race=14KM',\n",
       " 'https://secure.tiktok.biz/results/list.aspx?eventid=city2surf&edition=2006&race=14KM',\n",
       " 'https://secure.tiktok.biz/results/list.aspx?eventid=city2surf&edition=2005&race=14KM',\n",
       " 'https://secure.tiktok.biz/results/list.aspx?eventid=city2surf&edition=2004&race=14KM',\n",
       " 'https://secure.tiktok.biz/results/list.aspx?eventid=city2surf&edition=2003&race=14KM',\n",
       " 'https://secure.tiktok.biz/results/list.aspx?eventid=city2surf&edition=2002&race=14KM',\n",
       " 'https://secure.tiktok.biz/results/list.aspx?eventid=city2surf&edition=2001&race=14KM',\n",
       " 'https://secure.tiktok.biz/results/list.aspx?eventid=city2surf&edition=2000&race=14KM']"
      ]
     },
     "execution_count": 191,
     "metadata": {},
     "output_type": "execute_result"
    }
   ],
   "source": [
    "results_links"
   ]
  },
  {
   "cell_type": "markdown",
   "metadata": {},
   "source": [
    "now to download all the results into a pandas table. do i end up making one giant table or a table for each year?\n",
    "\n",
    "# get results\n",
    "\n",
    "First, lets see how the results are displayed on a random result page:"
   ]
  },
  {
   "cell_type": "code",
   "execution_count": 194,
   "metadata": {
    "collapsed": true
   },
   "outputs": [],
   "source": [
    "url = results_links[np.random.randint(0, len(results_links))]\n",
    "r = requests.get(url)\n",
    "soup = BeautifulSoup(r.text, \"lxml\")"
   ]
  },
  {
   "cell_type": "code",
   "execution_count": 195,
   "metadata": {},
   "outputs": [
    {
     "data": {
      "text/html": [
       "<table border=\"0\" class=\"table table-striped table-hover table-responsive\" id=\"pagePlaceHolder_resTable\">\n",
       "<tr>\n",
       "<th width=\"3%\">#</th><th class=\"hidden-480\" width=\"5%\">Bib</th><th>Name</th><th class=\"text-center\" width=\"10%\">Finish Time</th><th class=\"text-center\" width=\"10%\">Net Time</th><th class=\"hidden-480 text-center\" width=\"5%\">Place</th><th class=\"hidden-480 text-center\" width=\"5%\">Gender</th><th class=\"hidden-480 text-center\" width=\"5%\">G/Pl</th><th class=\"hidden-480 text-center\" width=\"10%\">Division</th><th class=\"hidden-480 text-center\" width=\"5%\">D/Pl</th><th class=\"hidden-480 text-right\" width=\"5%\"></th>\n",
       "</tr><tr>\n",
       "<td>1</td><td class=\"hidden-480\">00064</td><td><a href=\"../../../view.aspx?EventID=city2surf&amp;Edition=2009&amp;bib=00064\">MICHAEL SHELLEY</a></td><td class=\"text-center\">00:41:02</td><td class=\"text-center\">00:40:57</td><td class=\"hidden-480 text-center\">1</td><td class=\"hidden-480 text-center\">M</td><td class=\"hidden-480 text-center\">1</td><td class=\"hidden-480 text-center\">M25-29</td><td class=\"hidden-480 text-center\">1</td><td class=\"hidden-480 text-right\"><a class=\"btn green btn-xs text-right\" href=\"../../../view.aspx?EventID=city2surf&amp;Edition=2009&amp;bib=00064\"><i class=\"fa fa-play\"></i> view</a></td>\n",
       "</tr><tr>\n",
       "<td>2</td><td class=\"hidden-480\">00059</td><td><a href=\"../../../view.aspx?EventID=city2surf&amp;Edition=2009&amp;bib=00059\">BEN ST LAWRENCE</a></td><td class=\"text-center\">00:41:12</td><td class=\"text-center\">00:41:07</td><td class=\"hidden-480 text-center\">2</td><td class=\"hidden-480 text-center\">M</td><td class=\"hidden-480 text-center\">2</td><td class=\"hidden-480 text-center\">M25-29</td><td class=\"hidden-480 text-center\">2</td><td class=\"hidden-480 text-right\"><a class=\"btn green btn-xs text-right\" href=\"../../../view.aspx?EventID=city2surf&amp;Edition=2009&amp;bib=00059\"><i class=\"fa fa-play\"></i> view</a></td>\n",
       "</tr><tr>\n",
       "<td>3</td><td class=\"hidden-480\">00067</td><td><a href=\"../../../view.aspx?EventID=city2surf&amp;Edition=2009&amp;bib=00067\">CLINT PERRETT</a></td><td class=\"text-center\">00:41:52</td><td class=\"text-center\">00:41:47</td><td class=\"hidden-480 text-center\">3</td><td class=\"hidden-480 text-center\">M</td><td class=\"hidden-480 text-center\">3</td><td class=\"hidden-480 text-center\">M25-29</td><td class=\"hidden-480 text-center\">3</td><td class=\"hidden-480 text-right\"><a class=\"btn green btn-xs text-right\" href=\"../../../view.aspx?EventID=city2surf&amp;Edition=2009&amp;bib=00067\"><i class=\"fa fa-play\"></i> view</a></td>\n",
       "</tr><tr>\n",
       "<td>4</td><td class=\"hidden-480\">00086</td><td><a href=\"../../../view.aspx?EventID=city2surf&amp;Edition=2009&amp;bib=00086\">CHRIS HAMER</a></td><td class=\"text-center\">00:42:22</td><td class=\"text-center\">00:42:17</td><td class=\"hidden-480 text-center\">4</td><td class=\"hidden-480 text-center\">M</td><td class=\"hidden-480 text-center\">4</td><td class=\"hidden-480 text-center\">M19-24</td><td class=\"hidden-480 text-center\">1</td><td class=\"hidden-480 text-right\"><a class=\"btn green btn-xs text-right\" href=\"../../../view.aspx?EventID=city2surf&amp;Edition=2009&amp;bib=00086\"><i class=\"fa fa-play\"></i> view</a></td>\n",
       "</tr><tr>\n",
       "<td>5</td><td class=\"hidden-480\">00054</td><td><a href=\"../../../view.aspx?EventID=city2surf&amp;Edition=2009&amp;bib=00054\">ERWIN MCRAE</a></td><td class=\"text-center\">00:42:29</td><td class=\"text-center\">00:42:24</td><td class=\"hidden-480 text-center\">5</td><td class=\"hidden-480 text-center\">M</td><td class=\"hidden-480 text-center\">5</td><td class=\"hidden-480 text-center\">M30-34</td><td class=\"hidden-480 text-center\">1</td><td class=\"hidden-480 text-right\"><a class=\"btn green btn-xs text-right\" href=\"../../../view.aspx?EventID=city2surf&amp;Edition=2009&amp;bib=00054\"><i class=\"fa fa-play\"></i> view</a></td>\n",
       "</tr><tr>\n",
       "<td>6</td><td class=\"hidden-480\">00017</td><td><a href=\"../../../view.aspx?EventID=city2surf&amp;Edition=2009&amp;bib=00017\">GRANT PAGE</a></td><td class=\"text-center\">00:42:36</td><td class=\"text-center\">00:42:31</td><td class=\"hidden-480 text-center\">6</td><td class=\"hidden-480 text-center\">M</td><td class=\"hidden-480 text-center\">6</td><td class=\"hidden-480 text-center\">M25-29</td><td class=\"hidden-480 text-center\">4</td><td class=\"hidden-480 text-right\"><a class=\"btn green btn-xs text-right\" href=\"../../../view.aspx?EventID=city2surf&amp;Edition=2009&amp;bib=00017\"><i class=\"fa fa-play\"></i> view</a></td>\n",
       "</tr><tr>\n",
       "<td>7</td><td class=\"hidden-480\">00081</td><td><a href=\"../../../view.aspx?EventID=city2surf&amp;Edition=2009&amp;bib=00081\">HARRY SUMMERS</a></td><td class=\"text-center\">00:42:41</td><td class=\"text-center\">00:42:35</td><td class=\"hidden-480 text-center\">7</td><td class=\"hidden-480 text-center\">M</td><td class=\"hidden-480 text-center\">7</td><td class=\"hidden-480 text-center\">M19-24</td><td class=\"hidden-480 text-center\">2</td><td class=\"hidden-480 text-right\"><a class=\"btn green btn-xs text-right\" href=\"../../../view.aspx?EventID=city2surf&amp;Edition=2009&amp;bib=00081\"><i class=\"fa fa-play\"></i> view</a></td>\n",
       "</tr><tr>\n",
       "<td>8</td><td class=\"hidden-480\">00046</td><td><a href=\"../../../view.aspx?EventID=city2surf&amp;Edition=2009&amp;bib=00046\">ANTHONY HABER</a></td><td class=\"text-center\">00:42:50</td><td class=\"text-center\">00:42:43</td><td class=\"hidden-480 text-center\">8</td><td class=\"hidden-480 text-center\">M</td><td class=\"hidden-480 text-center\">8</td><td class=\"hidden-480 text-center\">M30-34</td><td class=\"hidden-480 text-center\">2</td><td class=\"hidden-480 text-right\"><a class=\"btn green btn-xs text-right\" href=\"../../../view.aspx?EventID=city2surf&amp;Edition=2009&amp;bib=00046\"><i class=\"fa fa-play\"></i> view</a></td>\n",
       "</tr><tr>\n",
       "<td>9</td><td class=\"hidden-480\">00005</td><td><a href=\"../../../view.aspx?EventID=city2surf&amp;Edition=2009&amp;bib=00005\">THOMAS CRASTI</a></td><td class=\"text-center\">00:43:35</td><td class=\"text-center\">00:43:29</td><td class=\"hidden-480 text-center\">9</td><td class=\"hidden-480 text-center\">M</td><td class=\"hidden-480 text-center\">9</td><td class=\"hidden-480 text-center\">M19-24</td><td class=\"hidden-480 text-center\">3</td><td class=\"hidden-480 text-right\"><a class=\"btn green btn-xs text-right\" href=\"../../../view.aspx?EventID=city2surf&amp;Edition=2009&amp;bib=00005\"><i class=\"fa fa-play\"></i> view</a></td>\n",
       "</tr><tr>\n",
       "<td>10</td><td class=\"hidden-480\">00023</td><td><a href=\"../../../view.aspx?EventID=city2surf&amp;Edition=2009&amp;bib=00023\">CHRIS HARTLEY</a></td><td class=\"text-center\">00:43:36</td><td class=\"text-center\">00:43:29</td><td class=\"hidden-480 text-center\">10</td><td class=\"hidden-480 text-center\">M</td><td class=\"hidden-480 text-center\">10</td><td class=\"hidden-480 text-center\">M25-29</td><td class=\"hidden-480 text-center\">5</td><td class=\"hidden-480 text-right\"><a class=\"btn green btn-xs text-right\" href=\"../../../view.aspx?EventID=city2surf&amp;Edition=2009&amp;bib=00023\"><i class=\"fa fa-play\"></i> view</a></td>\n",
       "</tr><tr>\n",
       "<td>11</td><td class=\"hidden-480\">00019</td><td><a href=\"../../../view.aspx?EventID=city2surf&amp;Edition=2009&amp;bib=00019\">JONATHAN PETERS</a></td><td class=\"text-center\">00:43:38</td><td class=\"text-center\">00:43:31</td><td class=\"hidden-480 text-center\">11</td><td class=\"hidden-480 text-center\">M</td><td class=\"hidden-480 text-center\">11</td><td class=\"hidden-480 text-center\">M19-24</td><td class=\"hidden-480 text-center\">4</td><td class=\"hidden-480 text-right\"><a class=\"btn green btn-xs text-right\" href=\"../../../view.aspx?EventID=city2surf&amp;Edition=2009&amp;bib=00019\"><i class=\"fa fa-play\"></i> view</a></td>\n",
       "</tr><tr>\n",
       "<td>12</td><td class=\"hidden-480\">00010</td><td><a href=\"../../../view.aspx?EventID=city2surf&amp;Edition=2009&amp;bib=00010\">BRADLEY CROKER</a></td><td class=\"text-center\">00:43:57</td><td class=\"text-center\">00:43:50</td><td class=\"hidden-480 text-center\">12</td><td class=\"hidden-480 text-center\">M</td><td class=\"hidden-480 text-center\">12</td><td class=\"hidden-480 text-center\">M25-29</td><td class=\"hidden-480 text-center\">6</td><td class=\"hidden-480 text-right\"><a class=\"btn green btn-xs text-right\" href=\"../../../view.aspx?EventID=city2surf&amp;Edition=2009&amp;bib=00010\"><i class=\"fa fa-play\"></i> view</a></td>\n",
       "</tr><tr>\n",
       "<td>13</td><td class=\"hidden-480\">00093</td><td><a href=\"../../../view.aspx?EventID=city2surf&amp;Edition=2009&amp;bib=00093\">JOSPHAT MWANGI</a></td><td class=\"text-center\">00:44:04</td><td class=\"text-center\">00:43:58</td><td class=\"hidden-480 text-center\">13</td><td class=\"hidden-480 text-center\">M</td><td class=\"hidden-480 text-center\">13</td><td class=\"hidden-480 text-center\">M30-34</td><td class=\"hidden-480 text-center\">3</td><td class=\"hidden-480 text-right\"><a class=\"btn green btn-xs text-right\" href=\"../../../view.aspx?EventID=city2surf&amp;Edition=2009&amp;bib=00093\"><i class=\"fa fa-play\"></i> view</a></td>\n",
       "</tr><tr>\n",
       "<td>14</td><td class=\"hidden-480\">00082</td><td><a href=\"../../../view.aspx?EventID=city2surf&amp;Edition=2009&amp;bib=00082\">HINTSA MEBRAHTU</a></td><td class=\"text-center\">00:44:05</td><td class=\"text-center\">00:43:58</td><td class=\"hidden-480 text-center\">14</td><td class=\"hidden-480 text-center\">M</td><td class=\"hidden-480 text-center\">14</td><td class=\"hidden-480 text-center\">M25-29</td><td class=\"hidden-480 text-center\">7</td><td class=\"hidden-480 text-right\"><a class=\"btn green btn-xs text-right\" href=\"../../../view.aspx?EventID=city2surf&amp;Edition=2009&amp;bib=00082\"><i class=\"fa fa-play\"></i> view</a></td>\n",
       "</tr><tr>\n",
       "<td>15</td><td class=\"hidden-480\">00060</td><td><a href=\"../../../view.aspx?EventID=city2surf&amp;Edition=2009&amp;bib=00060\">JEREMY HORNE</a></td><td class=\"text-center\">00:44:33</td><td class=\"text-center\">00:44:28</td><td class=\"hidden-480 text-center\">15</td><td class=\"hidden-480 text-center\">M</td><td class=\"hidden-480 text-center\">15</td><td class=\"hidden-480 text-center\">M35-39</td><td class=\"hidden-480 text-center\">1</td><td class=\"hidden-480 text-right\"><a class=\"btn green btn-xs text-right\" href=\"../../../view.aspx?EventID=city2surf&amp;Edition=2009&amp;bib=00060\"><i class=\"fa fa-play\"></i> view</a></td>\n",
       "</tr><tr>\n",
       "<td>16</td><td class=\"hidden-480\">00038</td><td><a href=\"../../../view.aspx?EventID=city2surf&amp;Edition=2009&amp;bib=00038\">ANTHONY CRAIG</a></td><td class=\"text-center\">00:44:43</td><td class=\"text-center\">00:44:37</td><td class=\"hidden-480 text-center\">16</td><td class=\"hidden-480 text-center\">M</td><td class=\"hidden-480 text-center\">16</td><td class=\"hidden-480 text-center\">M25-29</td><td class=\"hidden-480 text-center\">8</td><td class=\"hidden-480 text-right\"><a class=\"btn green btn-xs text-right\" href=\"../../../view.aspx?EventID=city2surf&amp;Edition=2009&amp;bib=00038\"><i class=\"fa fa-play\"></i> view</a></td>\n",
       "</tr><tr>\n",
       "<td>17</td><td class=\"hidden-480\">00026</td><td><a href=\"../../../view.aspx?EventID=city2surf&amp;Edition=2009&amp;bib=00026\">ALAN CRAIGIE</a></td><td class=\"text-center\">00:44:44</td><td class=\"text-center\">00:44:38</td><td class=\"hidden-480 text-center\">17</td><td class=\"hidden-480 text-center\">M</td><td class=\"hidden-480 text-center\">17</td><td class=\"hidden-480 text-center\">M25-29</td><td class=\"hidden-480 text-center\">9</td><td class=\"hidden-480 text-right\"><a class=\"btn green btn-xs text-right\" href=\"../../../view.aspx?EventID=city2surf&amp;Edition=2009&amp;bib=00026\"><i class=\"fa fa-play\"></i> view</a></td>\n",
       "</tr><tr>\n",
       "<td>18</td><td class=\"hidden-480\">00089</td><td><a href=\"../../../view.aspx?EventID=city2surf&amp;Edition=2009&amp;bib=00089\">PETE JACOBS</a></td><td class=\"text-center\">00:44:47</td><td class=\"text-center\">00:44:41</td><td class=\"hidden-480 text-center\">18</td><td class=\"hidden-480 text-center\">M</td><td class=\"hidden-480 text-center\">18</td><td class=\"hidden-480 text-center\">M25-29</td><td class=\"hidden-480 text-center\">10</td><td class=\"hidden-480 text-right\"><a class=\"btn green btn-xs text-right\" href=\"../../../view.aspx?EventID=city2surf&amp;Edition=2009&amp;bib=00089\"><i class=\"fa fa-play\"></i> view</a></td>\n",
       "</tr><tr>\n",
       "<td>19</td><td class=\"hidden-480\">00071</td><td><a href=\"../../../view.aspx?EventID=city2surf&amp;Edition=2009&amp;bib=00071\">EARL O'BRIEN</a></td><td class=\"text-center\">00:44:49</td><td class=\"text-center\">00:44:42</td><td class=\"hidden-480 text-center\">19</td><td class=\"hidden-480 text-center\">M</td><td class=\"hidden-480 text-center\">19</td><td class=\"hidden-480 text-center\">M19-24</td><td class=\"hidden-480 text-center\">5</td><td class=\"hidden-480 text-right\"><a class=\"btn green btn-xs text-right\" href=\"../../../view.aspx?EventID=city2surf&amp;Edition=2009&amp;bib=00071\"><i class=\"fa fa-play\"></i> view</a></td>\n",
       "</tr><tr>\n",
       "<td>20</td><td class=\"hidden-480\">00055</td><td><a href=\"../../../view.aspx?EventID=city2surf&amp;Edition=2009&amp;bib=00055\">GLENN GUZZO</a></td><td class=\"text-center\">00:45:00</td><td class=\"text-center\">00:44:54</td><td class=\"hidden-480 text-center\">20</td><td class=\"hidden-480 text-center\">M</td><td class=\"hidden-480 text-center\">20</td><td class=\"hidden-480 text-center\">M30-34</td><td class=\"hidden-480 text-center\">4</td><td class=\"hidden-480 text-right\"><a class=\"btn green btn-xs text-right\" href=\"../../../view.aspx?EventID=city2surf&amp;Edition=2009&amp;bib=00055\"><i class=\"fa fa-play\"></i> view</a></td>\n",
       "</tr><tr>\n",
       "<td>21</td><td class=\"hidden-480\">00074</td><td><a href=\"../../../view.aspx?EventID=city2surf&amp;Edition=2009&amp;bib=00074\">KEVIN ROBERTSON</a></td><td class=\"text-center\">00:45:09</td><td class=\"text-center\">00:45:03</td><td class=\"hidden-480 text-center\">21</td><td class=\"hidden-480 text-center\">M</td><td class=\"hidden-480 text-center\">21</td><td class=\"hidden-480 text-center\">M30-34</td><td class=\"hidden-480 text-center\">5</td><td class=\"hidden-480 text-right\"><a class=\"btn green btn-xs text-right\" href=\"../../../view.aspx?EventID=city2surf&amp;Edition=2009&amp;bib=00074\"><i class=\"fa fa-play\"></i> view</a></td>\n",
       "</tr><tr>\n",
       "<td>22</td><td class=\"hidden-480\">00006</td><td><a href=\"../../../view.aspx?EventID=city2surf&amp;Edition=2009&amp;bib=00006\">VLAD SHATROV</a></td><td class=\"text-center\">00:45:12</td><td class=\"text-center\">00:45:07</td><td class=\"hidden-480 text-center\">22</td><td class=\"hidden-480 text-center\">M</td><td class=\"hidden-480 text-center\">22</td><td class=\"hidden-480 text-center\">M30-34</td><td class=\"hidden-480 text-center\">6</td><td class=\"hidden-480 text-right\"><a class=\"btn green btn-xs text-right\" href=\"../../../view.aspx?EventID=city2surf&amp;Edition=2009&amp;bib=00006\"><i class=\"fa fa-play\"></i> view</a></td>\n",
       "</tr><tr>\n",
       "<td>23</td><td class=\"hidden-480\">00091</td><td><a href=\"../../../view.aspx?EventID=city2surf&amp;Edition=2009&amp;bib=00091\">DANIEL CLARK</a></td><td class=\"text-center\">00:45:15</td><td class=\"text-center\">00:45:10</td><td class=\"hidden-480 text-center\">23</td><td class=\"hidden-480 text-center\">M</td><td class=\"hidden-480 text-center\">23</td><td class=\"hidden-480 text-center\">M19-24</td><td class=\"hidden-480 text-center\">6</td><td class=\"hidden-480 text-right\"><a class=\"btn green btn-xs text-right\" href=\"../../../view.aspx?EventID=city2surf&amp;Edition=2009&amp;bib=00091\"><i class=\"fa fa-play\"></i> view</a></td>\n",
       "</tr><tr>\n",
       "<td>24</td><td class=\"hidden-480\">00016</td><td><a href=\"../../../view.aspx?EventID=city2surf&amp;Edition=2009&amp;bib=00016\">MARK WARREN</a></td><td class=\"text-center\">00:45:23</td><td class=\"text-center\">00:45:17</td><td class=\"hidden-480 text-center\">24</td><td class=\"hidden-480 text-center\">M</td><td class=\"hidden-480 text-center\">24</td><td class=\"hidden-480 text-center\">M25-29</td><td class=\"hidden-480 text-center\">11</td><td class=\"hidden-480 text-right\"><a class=\"btn green btn-xs text-right\" href=\"../../../view.aspx?EventID=city2surf&amp;Edition=2009&amp;bib=00016\"><i class=\"fa fa-play\"></i> view</a></td>\n",
       "</tr><tr>\n",
       "<td>25</td><td class=\"hidden-480\">00090</td><td><a href=\"../../../view.aspx?EventID=city2surf&amp;Edition=2009&amp;bib=00090\">LACHLAN CHISHOLM</a></td><td class=\"text-center\">00:45:31</td><td class=\"text-center\">00:45:25</td><td class=\"hidden-480 text-center\">25</td><td class=\"hidden-480 text-center\">M</td><td class=\"hidden-480 text-center\">25</td><td class=\"hidden-480 text-center\">M25-29</td><td class=\"hidden-480 text-center\">12</td><td class=\"hidden-480 text-right\"><a class=\"btn green btn-xs text-right\" href=\"../../../view.aspx?EventID=city2surf&amp;Edition=2009&amp;bib=00090\"><i class=\"fa fa-play\"></i> view</a></td>\n",
       "</tr><tr>\n",
       "<td>26</td><td class=\"hidden-480\">00022</td><td><a href=\"../../../view.aspx?EventID=city2surf&amp;Edition=2009&amp;bib=00022\">DAVID CRINITI</a></td><td class=\"text-center\">00:45:34</td><td class=\"text-center\">00:45:28</td><td class=\"hidden-480 text-center\">26</td><td class=\"hidden-480 text-center\">M</td><td class=\"hidden-480 text-center\">26</td><td class=\"hidden-480 text-center\">M30-34</td><td class=\"hidden-480 text-center\">7</td><td class=\"hidden-480 text-right\"><a class=\"btn green btn-xs text-right\" href=\"../../../view.aspx?EventID=city2surf&amp;Edition=2009&amp;bib=00022\"><i class=\"fa fa-play\"></i> view</a></td>\n",
       "</tr><tr>\n",
       "<td>27</td><td class=\"hidden-480\">00051</td><td><a href=\"../../../view.aspx?EventID=city2surf&amp;Edition=2009&amp;bib=00051\">MATTHEW COX</a></td><td class=\"text-center\">00:45:46</td><td class=\"text-center\">00:45:40</td><td class=\"hidden-480 text-center\">27</td><td class=\"hidden-480 text-center\">M</td><td class=\"hidden-480 text-center\">27</td><td class=\"hidden-480 text-center\">M19-24</td><td class=\"hidden-480 text-center\">7</td><td class=\"hidden-480 text-right\"><a class=\"btn green btn-xs text-right\" href=\"../../../view.aspx?EventID=city2surf&amp;Edition=2009&amp;bib=00051\"><i class=\"fa fa-play\"></i> view</a></td>\n",
       "</tr><tr>\n",
       "<td>28</td><td class=\"hidden-480\">00061</td><td><a href=\"../../../view.aspx?EventID=city2surf&amp;Edition=2009&amp;bib=00061\">JASON ALLIE</a></td><td class=\"text-center\">00:45:47</td><td class=\"text-center\">00:45:41</td><td class=\"hidden-480 text-center\">28</td><td class=\"hidden-480 text-center\">M</td><td class=\"hidden-480 text-center\">28</td><td class=\"hidden-480 text-center\">M25-29</td><td class=\"hidden-480 text-center\">13</td><td class=\"hidden-480 text-right\"><a class=\"btn green btn-xs text-right\" href=\"../../../view.aspx?EventID=city2surf&amp;Edition=2009&amp;bib=00061\"><i class=\"fa fa-play\"></i> view</a></td>\n",
       "</tr><tr>\n",
       "<td>29</td><td class=\"hidden-480\">00013</td><td><a href=\"../../../view.aspx?EventID=city2surf&amp;Edition=2009&amp;bib=00013\">HUGH WILLIAMS</a></td><td class=\"text-center\">00:45:50</td><td class=\"text-center\">00:45:44</td><td class=\"hidden-480 text-center\">29</td><td class=\"hidden-480 text-center\">M</td><td class=\"hidden-480 text-center\">29</td><td class=\"hidden-480 text-center\">M16-18</td><td class=\"hidden-480 text-center\">1</td><td class=\"hidden-480 text-right\"><a class=\"btn green btn-xs text-right\" href=\"../../../view.aspx?EventID=city2surf&amp;Edition=2009&amp;bib=00013\"><i class=\"fa fa-play\"></i> view</a></td>\n",
       "</tr><tr>\n",
       "<td>30</td><td class=\"hidden-480\">00056</td><td><a href=\"../../../view.aspx?EventID=city2surf&amp;Edition=2009&amp;bib=00056\">ROBIN WHITELEY</a></td><td class=\"text-center\">00:45:51</td><td class=\"text-center\">00:45:45</td><td class=\"hidden-480 text-center\">30</td><td class=\"hidden-480 text-center\">M</td><td class=\"hidden-480 text-center\">30</td><td class=\"hidden-480 text-center\">M35-39</td><td class=\"hidden-480 text-center\">2</td><td class=\"hidden-480 text-right\"><a class=\"btn green btn-xs text-right\" href=\"../../../view.aspx?EventID=city2surf&amp;Edition=2009&amp;bib=00056\"><i class=\"fa fa-play\"></i> view</a></td>\n",
       "</tr><tr>\n",
       "<td>31</td><td class=\"hidden-480\">00021</td><td><a href=\"../../../view.aspx?EventID=city2surf&amp;Edition=2009&amp;bib=00021\">OWAIN MATTHEWS</a></td><td class=\"text-center\">00:45:55</td><td class=\"text-center\">00:45:49</td><td class=\"hidden-480 text-center\">31</td><td class=\"hidden-480 text-center\">M</td><td class=\"hidden-480 text-center\">31</td><td class=\"hidden-480 text-center\">M25-29</td><td class=\"hidden-480 text-center\">14</td><td class=\"hidden-480 text-right\"><a class=\"btn green btn-xs text-right\" href=\"../../../view.aspx?EventID=city2surf&amp;Edition=2009&amp;bib=00021\"><i class=\"fa fa-play\"></i> view</a></td>\n",
       "</tr><tr>\n",
       "<td>32</td><td class=\"hidden-480\">00530</td><td><a href=\"../../../view.aspx?EventID=city2surf&amp;Edition=2009&amp;bib=00530\">JACKSON ELLIOTT</a></td><td class=\"text-center\">00:45:58</td><td class=\"text-center\">00:45:48</td><td class=\"hidden-480 text-center\">32</td><td class=\"hidden-480 text-center\">M</td><td class=\"hidden-480 text-center\">32</td><td class=\"hidden-480 text-center\">M25-29</td><td class=\"hidden-480 text-center\">15</td><td class=\"hidden-480 text-right\"><a class=\"btn green btn-xs text-right\" href=\"../../../view.aspx?EventID=city2surf&amp;Edition=2009&amp;bib=00530\"><i class=\"fa fa-play\"></i> view</a></td>\n",
       "</tr><tr>\n",
       "<td>33</td><td class=\"hidden-480\">00042</td><td><a href=\"../../../view.aspx?EventID=city2surf&amp;Edition=2009&amp;bib=00042\">ANDREW FERRIS</a></td><td class=\"text-center\">00:46:07</td><td class=\"text-center\">00:46:01</td><td class=\"hidden-480 text-center\">33</td><td class=\"hidden-480 text-center\">M</td><td class=\"hidden-480 text-center\">33</td><td class=\"hidden-480 text-center\">M19-24</td><td class=\"hidden-480 text-center\">8</td><td class=\"hidden-480 text-right\"><a class=\"btn green btn-xs text-right\" href=\"../../../view.aspx?EventID=city2surf&amp;Edition=2009&amp;bib=00042\"><i class=\"fa fa-play\"></i> view</a></td>\n",
       "</tr><tr>\n",
       "<td>34</td><td class=\"hidden-480\">00007</td><td><a href=\"../../../view.aspx?EventID=city2surf&amp;Edition=2009&amp;bib=00007\">ROBBIE NEILL</a></td><td class=\"text-center\">00:46:07</td><td class=\"text-center\">00:46:00</td><td class=\"hidden-480 text-center\">34</td><td class=\"hidden-480 text-center\">M</td><td class=\"hidden-480 text-center\">34</td><td class=\"hidden-480 text-center\">M25-29</td><td class=\"hidden-480 text-center\">16</td><td class=\"hidden-480 text-right\"><a class=\"btn green btn-xs text-right\" href=\"../../../view.aspx?EventID=city2surf&amp;Edition=2009&amp;bib=00007\"><i class=\"fa fa-play\"></i> view</a></td>\n",
       "</tr><tr>\n",
       "<td>35</td><td class=\"hidden-480\">00062</td><td><a href=\"../../../view.aspx?EventID=city2surf&amp;Edition=2009&amp;bib=00062\">JOHN MEAGHER</a></td><td class=\"text-center\">00:46:09</td><td class=\"text-center\">00:46:04</td><td class=\"hidden-480 text-center\">35</td><td class=\"hidden-480 text-center\">M</td><td class=\"hidden-480 text-center\">35</td><td class=\"hidden-480 text-center\">M45-49</td><td class=\"hidden-480 text-center\">1</td><td class=\"hidden-480 text-right\"><a class=\"btn green btn-xs text-right\" href=\"../../../view.aspx?EventID=city2surf&amp;Edition=2009&amp;bib=00062\"><i class=\"fa fa-play\"></i> view</a></td>\n",
       "</tr><tr>\n",
       "<td>36</td><td class=\"hidden-480\">00052</td><td><a href=\"../../../view.aspx?EventID=city2surf&amp;Edition=2009&amp;bib=00052\">CHADI ELASHKAR</a></td><td class=\"text-center\">00:46:10</td><td class=\"text-center\">00:46:03</td><td class=\"hidden-480 text-center\">36</td><td class=\"hidden-480 text-center\">M</td><td class=\"hidden-480 text-center\">36</td><td class=\"hidden-480 text-center\">M30-34</td><td class=\"hidden-480 text-center\">8</td><td class=\"hidden-480 text-right\"><a class=\"btn green btn-xs text-right\" href=\"../../../view.aspx?EventID=city2surf&amp;Edition=2009&amp;bib=00052\"><i class=\"fa fa-play\"></i> view</a></td>\n",
       "</tr><tr>\n",
       "<td>37</td><td class=\"hidden-480\">00030</td><td><a href=\"../../../view.aspx?EventID=city2surf&amp;Edition=2009&amp;bib=00030\">LUKE GRATTAN</a></td><td class=\"text-center\">00:46:14</td><td class=\"text-center\">00:46:08</td><td class=\"hidden-480 text-center\">37</td><td class=\"hidden-480 text-center\">M</td><td class=\"hidden-480 text-center\">37</td><td class=\"hidden-480 text-center\">M35-39</td><td class=\"hidden-480 text-center\">3</td><td class=\"hidden-480 text-right\"><a class=\"btn green btn-xs text-right\" href=\"../../../view.aspx?EventID=city2surf&amp;Edition=2009&amp;bib=00030\"><i class=\"fa fa-play\"></i> view</a></td>\n",
       "</tr><tr>\n",
       "<td>38</td><td class=\"hidden-480\">00094</td><td><a href=\"../../../view.aspx?EventID=city2surf&amp;Edition=2009&amp;bib=00094\">MICK CHAPMAN</a></td><td class=\"text-center\">00:46:20</td><td class=\"text-center\">00:46:14</td><td class=\"hidden-480 text-center\">38</td><td class=\"hidden-480 text-center\">M</td><td class=\"hidden-480 text-center\">38</td><td class=\"hidden-480 text-center\">M19-24</td><td class=\"hidden-480 text-center\">9</td><td class=\"hidden-480 text-right\"><a class=\"btn green btn-xs text-right\" href=\"../../../view.aspx?EventID=city2surf&amp;Edition=2009&amp;bib=00094\"><i class=\"fa fa-play\"></i> view</a></td>\n",
       "</tr><tr>\n",
       "<td>39</td><td class=\"hidden-480\">00057</td><td><a href=\"../../../view.aspx?EventID=city2surf&amp;Edition=2009&amp;bib=00057\">ANDREW MCFARLANE</a></td><td class=\"text-center\">00:46:34</td><td class=\"text-center\">00:46:27</td><td class=\"hidden-480 text-center\">39</td><td class=\"hidden-480 text-center\">M</td><td class=\"hidden-480 text-center\">39</td><td class=\"hidden-480 text-center\">M30-34</td><td class=\"hidden-480 text-center\">9</td><td class=\"hidden-480 text-right\"><a class=\"btn green btn-xs text-right\" href=\"../../../view.aspx?EventID=city2surf&amp;Edition=2009&amp;bib=00057\"><i class=\"fa fa-play\"></i> view</a></td>\n",
       "</tr><tr>\n",
       "<td>40</td><td class=\"hidden-480\">00024</td><td><a href=\"../../../view.aspx?EventID=city2surf&amp;Edition=2009&amp;bib=00024\">ANTHONY FARRUGIA</a></td><td class=\"text-center\">00:46:39</td><td class=\"text-center\">00:46:32</td><td class=\"hidden-480 text-center\">40</td><td class=\"hidden-480 text-center\">M</td><td class=\"hidden-480 text-center\">40</td><td class=\"hidden-480 text-center\">M35-39</td><td class=\"hidden-480 text-center\">4</td><td class=\"hidden-480 text-right\"><a class=\"btn green btn-xs text-right\" href=\"../../../view.aspx?EventID=city2surf&amp;Edition=2009&amp;bib=00024\"><i class=\"fa fa-play\"></i> view</a></td>\n",
       "</tr><tr>\n",
       "<td>41</td><td class=\"hidden-480\">00414</td><td><a href=\"../../../view.aspx?EventID=city2surf&amp;Edition=2009&amp;bib=00414\">DAVID IRELAND</a></td><td class=\"text-center\">00:46:41</td><td class=\"text-center\">00:46:34</td><td class=\"hidden-480 text-center\">41</td><td class=\"hidden-480 text-center\">M</td><td class=\"hidden-480 text-center\">41</td><td class=\"hidden-480 text-center\">M19-24</td><td class=\"hidden-480 text-center\">10</td><td class=\"hidden-480 text-right\"><a class=\"btn green btn-xs text-right\" href=\"../../../view.aspx?EventID=city2surf&amp;Edition=2009&amp;bib=00414\"><i class=\"fa fa-play\"></i> view</a></td>\n",
       "</tr><tr>\n",
       "<td>42</td><td class=\"hidden-480\">00211</td><td><a href=\"../../../view.aspx?EventID=city2surf&amp;Edition=2009&amp;bib=00211\">CHRISTIAN STRZADALA</a></td><td class=\"text-center\">00:46:46</td><td class=\"text-center\">00:46:38</td><td class=\"hidden-480 text-center\">42</td><td class=\"hidden-480 text-center\">M</td><td class=\"hidden-480 text-center\">42</td><td class=\"hidden-480 text-center\">M25-29</td><td class=\"hidden-480 text-center\">17</td><td class=\"hidden-480 text-right\"><a class=\"btn green btn-xs text-right\" href=\"../../../view.aspx?EventID=city2surf&amp;Edition=2009&amp;bib=00211\"><i class=\"fa fa-play\"></i> view</a></td>\n",
       "</tr><tr>\n",
       "<td>43</td><td class=\"hidden-480\">00044</td><td><a href=\"../../../view.aspx?EventID=city2surf&amp;Edition=2009&amp;bib=00044\">JASON HARRISON</a></td><td class=\"text-center\">00:46:46</td><td class=\"text-center\">00:46:39</td><td class=\"hidden-480 text-center\">43</td><td class=\"hidden-480 text-center\">M</td><td class=\"hidden-480 text-center\">43</td><td class=\"hidden-480 text-center\">M19-24</td><td class=\"hidden-480 text-center\">11</td><td class=\"hidden-480 text-right\"><a class=\"btn green btn-xs text-right\" href=\"../../../view.aspx?EventID=city2surf&amp;Edition=2009&amp;bib=00044\"><i class=\"fa fa-play\"></i> view</a></td>\n",
       "</tr><tr>\n",
       "<td>44</td><td class=\"hidden-480\">00087</td><td><a href=\"../../../view.aspx?EventID=city2surf&amp;Edition=2009&amp;bib=00087\">SAXON MOSELEY</a></td><td class=\"text-center\">00:46:47</td><td class=\"text-center\">00:46:41</td><td class=\"hidden-480 text-center\">44</td><td class=\"hidden-480 text-center\">M</td><td class=\"hidden-480 text-center\">44</td><td class=\"hidden-480 text-center\">M35-39</td><td class=\"hidden-480 text-center\">5</td><td class=\"hidden-480 text-right\"><a class=\"btn green btn-xs text-right\" href=\"../../../view.aspx?EventID=city2surf&amp;Edition=2009&amp;bib=00087\"><i class=\"fa fa-play\"></i> view</a></td>\n",
       "</tr><tr>\n",
       "<td>45</td><td class=\"hidden-480\">00072</td><td><a href=\"../../../view.aspx?EventID=city2surf&amp;Edition=2009&amp;bib=00072\">GRANT MORGAN</a></td><td class=\"text-center\">00:46:48</td><td class=\"text-center\">00:46:41</td><td class=\"hidden-480 text-center\">45</td><td class=\"hidden-480 text-center\">M</td><td class=\"hidden-480 text-center\">45</td><td class=\"hidden-480 text-center\">M30-34</td><td class=\"hidden-480 text-center\">10</td><td class=\"hidden-480 text-right\"><a class=\"btn green btn-xs text-right\" href=\"../../../view.aspx?EventID=city2surf&amp;Edition=2009&amp;bib=00072\"><i class=\"fa fa-play\"></i> view</a></td>\n",
       "</tr><tr>\n",
       "<td>46</td><td class=\"hidden-480\">00045</td><td><a href=\"../../../view.aspx?EventID=city2surf&amp;Edition=2009&amp;bib=00045\">RICHARD GARDINER</a></td><td class=\"text-center\">00:46:50</td><td class=\"text-center\">00:46:44</td><td class=\"hidden-480 text-center\">46</td><td class=\"hidden-480 text-center\">M</td><td class=\"hidden-480 text-center\">46</td><td class=\"hidden-480 text-center\">M30-34</td><td class=\"hidden-480 text-center\">11</td><td class=\"hidden-480 text-right\"><a class=\"btn green btn-xs text-right\" href=\"../../../view.aspx?EventID=city2surf&amp;Edition=2009&amp;bib=00045\"><i class=\"fa fa-play\"></i> view</a></td>\n",
       "</tr><tr>\n",
       "<td>47</td><td class=\"hidden-480\">00063</td><td><a href=\"../../../view.aspx?EventID=city2surf&amp;Edition=2009&amp;bib=00063\">PAUL HOFFMAN</a></td><td class=\"text-center\">00:46:51</td><td class=\"text-center\">00:46:45</td><td class=\"hidden-480 text-center\">47</td><td class=\"hidden-480 text-center\">M</td><td class=\"hidden-480 text-center\">47</td><td class=\"hidden-480 text-center\">M25-29</td><td class=\"hidden-480 text-center\">18</td><td class=\"hidden-480 text-right\"><a class=\"btn green btn-xs text-right\" href=\"../../../view.aspx?EventID=city2surf&amp;Edition=2009&amp;bib=00063\"><i class=\"fa fa-play\"></i> view</a></td>\n",
       "</tr><tr>\n",
       "<td>48</td><td class=\"hidden-480\">00248</td><td><a href=\"../../../view.aspx?EventID=city2surf&amp;Edition=2009&amp;bib=00248\">KEITH BATEMAN</a></td><td class=\"text-center\">00:46:59</td><td class=\"text-center\">00:46:51</td><td class=\"hidden-480 text-center\">48</td><td class=\"hidden-480 text-center\">M</td><td class=\"hidden-480 text-center\">48</td><td class=\"hidden-480 text-center\">M50-54</td><td class=\"hidden-480 text-center\">1</td><td class=\"hidden-480 text-right\"><a class=\"btn green btn-xs text-right\" href=\"../../../view.aspx?EventID=city2surf&amp;Edition=2009&amp;bib=00248\"><i class=\"fa fa-play\"></i> view</a></td>\n",
       "</tr><tr>\n",
       "<td>49</td><td class=\"hidden-480\">00001</td><td><a href=\"../../../view.aspx?EventID=city2surf&amp;Edition=2009&amp;bib=00001\">JASON ANTONELLI</a></td><td class=\"text-center\">00:47:07</td><td class=\"text-center\">00:47:01</td><td class=\"hidden-480 text-center\">49</td><td class=\"hidden-480 text-center\">M</td><td class=\"hidden-480 text-center\">49</td><td class=\"hidden-480 text-center\">M25-29</td><td class=\"hidden-480 text-center\">19</td><td class=\"hidden-480 text-right\"><a class=\"btn green btn-xs text-right\" href=\"../../../view.aspx?EventID=city2surf&amp;Edition=2009&amp;bib=00001\"><i class=\"fa fa-play\"></i> view</a></td>\n",
       "</tr><tr>\n",
       "<td>50</td><td class=\"hidden-480\">00321</td><td><a href=\"../../../view.aspx?EventID=city2surf&amp;Edition=2009&amp;bib=00321\">TIM COCHRANE</a></td><td class=\"text-center\">00:47:09</td><td class=\"text-center\">00:47:00</td><td class=\"hidden-480 text-center\">50</td><td class=\"hidden-480 text-center\">M</td><td class=\"hidden-480 text-center\">50</td><td class=\"hidden-480 text-center\">M25-29</td><td class=\"hidden-480 text-center\">20</td><td class=\"hidden-480 text-right\"><a class=\"btn green btn-xs text-right\" href=\"../../../view.aspx?EventID=city2surf&amp;Edition=2009&amp;bib=00321\"><i class=\"fa fa-play\"></i> view</a></td>\n",
       "</tr><tr>\n",
       "<td>51</td><td class=\"hidden-480\">00493</td><td><a href=\"../../../view.aspx?EventID=city2surf&amp;Edition=2009&amp;bib=00493\">VINCENT SHEPHERD</a></td><td class=\"text-center\">00:47:14</td><td class=\"text-center\">00:47:05</td><td class=\"hidden-480 text-center\">51</td><td class=\"hidden-480 text-center\">M</td><td class=\"hidden-480 text-center\">51</td><td class=\"hidden-480 text-center\">M19-24</td><td class=\"hidden-480 text-center\">12</td><td class=\"hidden-480 text-right\"><a class=\"btn green btn-xs text-right\" href=\"../../../view.aspx?EventID=city2surf&amp;Edition=2009&amp;bib=00493\"><i class=\"fa fa-play\"></i> view</a></td>\n",
       "</tr><tr>\n",
       "<td>52</td><td class=\"hidden-480\">00584</td><td><a href=\"../../../view.aspx?EventID=city2surf&amp;Edition=2009&amp;bib=00584\">MATT WEBSTER</a></td><td class=\"text-center\">00:47:15</td><td class=\"text-center\">00:47:08</td><td class=\"hidden-480 text-center\">52</td><td class=\"hidden-480 text-center\">M</td><td class=\"hidden-480 text-center\">52</td><td class=\"hidden-480 text-center\">M35-39</td><td class=\"hidden-480 text-center\">6</td><td class=\"hidden-480 text-right\"><a class=\"btn green btn-xs text-right\" href=\"../../../view.aspx?EventID=city2surf&amp;Edition=2009&amp;bib=00584\"><i class=\"fa fa-play\"></i> view</a></td>\n",
       "</tr><tr>\n",
       "<td>53</td><td class=\"hidden-480\">00085</td><td><a href=\"../../../view.aspx?EventID=city2surf&amp;Edition=2009&amp;bib=00085\">NICHOLAS BENNETT</a></td><td class=\"text-center\">00:47:17</td><td class=\"text-center\">00:47:11</td><td class=\"hidden-480 text-center\">53</td><td class=\"hidden-480 text-center\">M</td><td class=\"hidden-480 text-center\">53</td><td class=\"hidden-480 text-center\">M35-39</td><td class=\"hidden-480 text-center\">7</td><td class=\"hidden-480 text-right\"><a class=\"btn green btn-xs text-right\" href=\"../../../view.aspx?EventID=city2surf&amp;Edition=2009&amp;bib=00085\"><i class=\"fa fa-play\"></i> view</a></td>\n",
       "</tr><tr>\n",
       "<td>54</td><td class=\"hidden-480\">00075</td><td><a href=\"../../../view.aspx?EventID=city2surf&amp;Edition=2009&amp;bib=00075\">LUKE WHITMORE</a></td><td class=\"text-center\">00:47:19</td><td class=\"text-center\">00:47:13</td><td class=\"hidden-480 text-center\">54</td><td class=\"hidden-480 text-center\">M</td><td class=\"hidden-480 text-center\">54</td><td class=\"hidden-480 text-center\">M25-29</td><td class=\"hidden-480 text-center\">21</td><td class=\"hidden-480 text-right\"><a class=\"btn green btn-xs text-right\" href=\"../../../view.aspx?EventID=city2surf&amp;Edition=2009&amp;bib=00075\"><i class=\"fa fa-play\"></i> view</a></td>\n",
       "</tr><tr>\n",
       "<td>55</td><td class=\"hidden-480\">07427</td><td><a href=\"../../../view.aspx?EventID=city2surf&amp;Edition=2009&amp;bib=07427\">DAVID MATTHEWS</a></td><td class=\"text-center\">00:47:21</td><td class=\"text-center\">00:47:15</td><td class=\"hidden-480 text-center\">55</td><td class=\"hidden-480 text-center\">M</td><td class=\"hidden-480 text-center\">55</td><td class=\"hidden-480 text-center\">M19-24</td><td class=\"hidden-480 text-center\">13</td><td class=\"hidden-480 text-right\"><a class=\"btn green btn-xs text-right\" href=\"../../../view.aspx?EventID=city2surf&amp;Edition=2009&amp;bib=07427\"><i class=\"fa fa-play\"></i> view</a></td>\n",
       "</tr><tr>\n",
       "<td>56</td><td class=\"hidden-480\">00349</td><td><a href=\"../../../view.aspx?EventID=city2surf&amp;Edition=2009&amp;bib=00349\">BEN FAHY</a></td><td class=\"text-center\">00:47:22</td><td class=\"text-center\">00:47:14</td><td class=\"hidden-480 text-center\">56</td><td class=\"hidden-480 text-center\">M</td><td class=\"hidden-480 text-center\">56</td><td class=\"hidden-480 text-center\">M30-34</td><td class=\"hidden-480 text-center\">12</td><td class=\"hidden-480 text-right\"><a class=\"btn green btn-xs text-right\" href=\"../../../view.aspx?EventID=city2surf&amp;Edition=2009&amp;bib=00349\"><i class=\"fa fa-play\"></i> view</a></td>\n",
       "</tr><tr>\n",
       "<td>57</td><td class=\"hidden-480\">00499</td><td><a href=\"../../../view.aspx?EventID=city2surf&amp;Edition=2009&amp;bib=00499\">DARREN MOYLE</a></td><td class=\"text-center\">00:47:26</td><td class=\"text-center\">00:47:14</td><td class=\"hidden-480 text-center\">57</td><td class=\"hidden-480 text-center\">M</td><td class=\"hidden-480 text-center\">57</td><td class=\"hidden-480 text-center\">M35-39</td><td class=\"hidden-480 text-center\">8</td><td class=\"hidden-480 text-right\"><a class=\"btn green btn-xs text-right\" href=\"../../../view.aspx?EventID=city2surf&amp;Edition=2009&amp;bib=00499\"><i class=\"fa fa-play\"></i> view</a></td>\n",
       "</tr><tr>\n",
       "<td>58</td><td class=\"hidden-480\">00027</td><td><a href=\"../../../view.aspx?EventID=city2surf&amp;Edition=2009&amp;bib=00027\">AARON HUMPHREY</a></td><td class=\"text-center\">00:47:29</td><td class=\"text-center\">00:47:23</td><td class=\"hidden-480 text-center\">58</td><td class=\"hidden-480 text-center\">M</td><td class=\"hidden-480 text-center\">58</td><td class=\"hidden-480 text-center\">M19-24</td><td class=\"hidden-480 text-center\">14</td><td class=\"hidden-480 text-right\"><a class=\"btn green btn-xs text-right\" href=\"../../../view.aspx?EventID=city2surf&amp;Edition=2009&amp;bib=00027\"><i class=\"fa fa-play\"></i> view</a></td>\n",
       "</tr><tr>\n",
       "<td>59</td><td class=\"hidden-480\">00008</td><td><a href=\"../../../view.aspx?EventID=city2surf&amp;Edition=2009&amp;bib=00008\">BRUCE GRAHAM</a></td><td class=\"text-center\">00:47:30</td><td class=\"text-center\">00:47:23</td><td class=\"hidden-480 text-center\">59</td><td class=\"hidden-480 text-center\">M</td><td class=\"hidden-480 text-center\">59</td><td class=\"hidden-480 text-center\">M45-49</td><td class=\"hidden-480 text-center\">2</td><td class=\"hidden-480 text-right\"><a class=\"btn green btn-xs text-right\" href=\"../../../view.aspx?EventID=city2surf&amp;Edition=2009&amp;bib=00008\"><i class=\"fa fa-play\"></i> view</a></td>\n",
       "</tr><tr>\n",
       "<td>60</td><td class=\"hidden-480\">00029</td><td><a href=\"../../../view.aspx?EventID=city2surf&amp;Edition=2009&amp;bib=00029\">DAVID OSMOND</a></td><td class=\"text-center\">00:47:33</td><td class=\"text-center\">00:47:26</td><td class=\"hidden-480 text-center\">60</td><td class=\"hidden-480 text-center\">M</td><td class=\"hidden-480 text-center\">60</td><td class=\"hidden-480 text-center\">M35-39</td><td class=\"hidden-480 text-center\">9</td><td class=\"hidden-480 text-right\"><a class=\"btn green btn-xs text-right\" href=\"../../../view.aspx?EventID=city2surf&amp;Edition=2009&amp;bib=00029\"><i class=\"fa fa-play\"></i> view</a></td>\n",
       "</tr><tr>\n",
       "<td>61</td><td class=\"hidden-480\">00405</td><td><a href=\"../../../view.aspx?EventID=city2surf&amp;Edition=2009&amp;bib=00405\">MICHAEL MCINTYRE</a></td><td class=\"text-center\">00:47:37</td><td class=\"text-center\">00:47:30</td><td class=\"hidden-480 text-center\">61</td><td class=\"hidden-480 text-center\">M</td><td class=\"hidden-480 text-center\">61</td><td class=\"hidden-480 text-center\">M50-54</td><td class=\"hidden-480 text-center\">2</td><td class=\"hidden-480 text-right\"><a class=\"btn green btn-xs text-right\" href=\"../../../view.aspx?EventID=city2surf&amp;Edition=2009&amp;bib=00405\"><i class=\"fa fa-play\"></i> view</a></td>\n",
       "</tr><tr>\n",
       "<td>62</td><td class=\"hidden-480\">00003</td><td><a href=\"../../../view.aspx?EventID=city2surf&amp;Edition=2009&amp;bib=00003\">SCOTT IMHOFF</a></td><td class=\"text-center\">00:47:38</td><td class=\"text-center\">00:47:32</td><td class=\"hidden-480 text-center\">62</td><td class=\"hidden-480 text-center\">M</td><td class=\"hidden-480 text-center\">62</td><td class=\"hidden-480 text-center\">M30-34</td><td class=\"hidden-480 text-center\">13</td><td class=\"hidden-480 text-right\"><a class=\"btn green btn-xs text-right\" href=\"../../../view.aspx?EventID=city2surf&amp;Edition=2009&amp;bib=00003\"><i class=\"fa fa-play\"></i> view</a></td>\n",
       "</tr><tr>\n",
       "<td>63</td><td class=\"hidden-480\">00388</td><td><a href=\"../../../view.aspx?EventID=city2surf&amp;Edition=2009&amp;bib=00388\">ANDREW CROSS</a></td><td class=\"text-center\">00:47:40</td><td class=\"text-center\">00:47:33</td><td class=\"hidden-480 text-center\">63</td><td class=\"hidden-480 text-center\">M</td><td class=\"hidden-480 text-center\">63</td><td class=\"hidden-480 text-center\">M35-39</td><td class=\"hidden-480 text-center\">10</td><td class=\"hidden-480 text-right\"><a class=\"btn green btn-xs text-right\" href=\"../../../view.aspx?EventID=city2surf&amp;Edition=2009&amp;bib=00388\"><i class=\"fa fa-play\"></i> view</a></td>\n",
       "</tr><tr>\n",
       "<td>64</td><td class=\"hidden-480\">00014</td><td><a href=\"../../../view.aspx?EventID=city2surf&amp;Edition=2009&amp;bib=00014\">TONY RUSSO</a></td><td class=\"text-center\">00:47:41</td><td class=\"text-center\">00:47:36</td><td class=\"hidden-480 text-center\">64</td><td class=\"hidden-480 text-center\">M</td><td class=\"hidden-480 text-center\">64</td><td class=\"hidden-480 text-center\">M35-39</td><td class=\"hidden-480 text-center\">11</td><td class=\"hidden-480 text-right\"><a class=\"btn green btn-xs text-right\" href=\"../../../view.aspx?EventID=city2surf&amp;Edition=2009&amp;bib=00014\"><i class=\"fa fa-play\"></i> view</a></td>\n",
       "</tr><tr>\n",
       "<td>65</td><td class=\"hidden-480\">00479</td><td><a href=\"../../../view.aspx?EventID=city2surf&amp;Edition=2009&amp;bib=00479\">MICHAEL PRINCE</a></td><td class=\"text-center\">00:47:43</td><td class=\"text-center\">00:47:36</td><td class=\"hidden-480 text-center\">65</td><td class=\"hidden-480 text-center\">M</td><td class=\"hidden-480 text-center\">65</td><td class=\"hidden-480 text-center\">M30-34</td><td class=\"hidden-480 text-center\">14</td><td class=\"hidden-480 text-right\"><a class=\"btn green btn-xs text-right\" href=\"../../../view.aspx?EventID=city2surf&amp;Edition=2009&amp;bib=00479\"><i class=\"fa fa-play\"></i> view</a></td>\n",
       "</tr><tr>\n",
       "<td>66</td><td class=\"hidden-480\">00018</td><td><a href=\"../../../view.aspx?EventID=city2surf&amp;Edition=2009&amp;bib=00018\">MELINDA VERNON</a></td><td class=\"text-center\">00:47:46</td><td class=\"text-center\">00:47:39</td><td class=\"hidden-480 text-center\">66</td><td class=\"hidden-480 text-center\">F</td><td class=\"hidden-480 text-center\">1</td><td class=\"hidden-480 text-center\">F19-24</td><td class=\"hidden-480 text-center\">1</td><td class=\"hidden-480 text-right\"><a class=\"btn green btn-xs text-right\" href=\"../../../view.aspx?EventID=city2surf&amp;Edition=2009&amp;bib=00018\"><i class=\"fa fa-play\"></i> view</a></td>\n",
       "</tr><tr>\n",
       "<td>67</td><td class=\"hidden-480\">00265</td><td><a href=\"../../../view.aspx?EventID=city2surf&amp;Edition=2009&amp;bib=00265\">MICHAEL JOHNSON</a></td><td class=\"text-center\">00:47:50</td><td class=\"text-center\">00:47:44</td><td class=\"hidden-480 text-center\">67</td><td class=\"hidden-480 text-center\">M</td><td class=\"hidden-480 text-center\">66</td><td class=\"hidden-480 text-center\">M30-34</td><td class=\"hidden-480 text-center\">15</td><td class=\"hidden-480 text-right\"><a class=\"btn green btn-xs text-right\" href=\"../../../view.aspx?EventID=city2surf&amp;Edition=2009&amp;bib=00265\"><i class=\"fa fa-play\"></i> view</a></td>\n",
       "</tr><tr>\n",
       "<td>68</td><td class=\"hidden-480\">00427</td><td><a href=\"../../../view.aspx?EventID=city2surf&amp;Edition=2009&amp;bib=00427\">MATT BRADY</a></td><td class=\"text-center\">00:47:54</td><td class=\"text-center\">00:47:46</td><td class=\"hidden-480 text-center\">68</td><td class=\"hidden-480 text-center\">M</td><td class=\"hidden-480 text-center\">67</td><td class=\"hidden-480 text-center\">M19-24</td><td class=\"hidden-480 text-center\">15</td><td class=\"hidden-480 text-right\"><a class=\"btn green btn-xs text-right\" href=\"../../../view.aspx?EventID=city2surf&amp;Edition=2009&amp;bib=00427\"><i class=\"fa fa-play\"></i> view</a></td>\n",
       "</tr><tr>\n",
       "<td>69</td><td class=\"hidden-480\">00571</td><td><a href=\"../../../view.aspx?EventID=city2surf&amp;Edition=2009&amp;bib=00571\">ROBERT SCHWERKOLT</a></td><td class=\"text-center\">00:47:56</td><td class=\"text-center\">00:47:43</td><td class=\"hidden-480 text-center\">69</td><td class=\"hidden-480 text-center\">M</td><td class=\"hidden-480 text-center\">68</td><td class=\"hidden-480 text-center\">M40-44</td><td class=\"hidden-480 text-center\">1</td><td class=\"hidden-480 text-right\"><a class=\"btn green btn-xs text-right\" href=\"../../../view.aspx?EventID=city2surf&amp;Edition=2009&amp;bib=00571\"><i class=\"fa fa-play\"></i> view</a></td>\n",
       "</tr><tr>\n",
       "<td>70</td><td class=\"hidden-480\">00058</td><td><a href=\"../../../view.aspx?EventID=city2surf&amp;Edition=2009&amp;bib=00058\">EMILY BRICHACEK</a></td><td class=\"text-center\">00:47:57</td><td class=\"text-center\">00:47:51</td><td class=\"hidden-480 text-center\">70</td><td class=\"hidden-480 text-center\">F</td><td class=\"hidden-480 text-center\">2</td><td class=\"hidden-480 text-center\">F19-24</td><td class=\"hidden-480 text-center\">2</td><td class=\"hidden-480 text-right\"><a class=\"btn green btn-xs text-right\" href=\"../../../view.aspx?EventID=city2surf&amp;Edition=2009&amp;bib=00058\"><i class=\"fa fa-play\"></i> view</a></td>\n",
       "</tr><tr>\n",
       "<td>71</td><td class=\"hidden-480\">00383</td><td><a href=\"../../../view.aspx?EventID=city2surf&amp;Edition=2009&amp;bib=00383\">PHILIPPE BOUTTERFROY</a></td><td class=\"text-center\">00:48:02</td><td class=\"text-center\">00:47:54</td><td class=\"hidden-480 text-center\">71</td><td class=\"hidden-480 text-center\">M</td><td class=\"hidden-480 text-center\">69</td><td class=\"hidden-480 text-center\">M25-29</td><td class=\"hidden-480 text-center\">22</td><td class=\"hidden-480 text-right\"><a class=\"btn green btn-xs text-right\" href=\"../../../view.aspx?EventID=city2surf&amp;Edition=2009&amp;bib=00383\"><i class=\"fa fa-play\"></i> view</a></td>\n",
       "</tr><tr>\n",
       "<td>72</td><td class=\"hidden-480\">00563</td><td><a href=\"../../../view.aspx?EventID=city2surf&amp;Edition=2009&amp;bib=00563\">KYLE MARTIN-ALCAIDE</a></td><td class=\"text-center\">00:48:03</td><td class=\"text-center\">00:47:55</td><td class=\"hidden-480 text-center\">72</td><td class=\"hidden-480 text-center\">M</td><td class=\"hidden-480 text-center\">70</td><td class=\"hidden-480 text-center\">M13-15</td><td class=\"hidden-480 text-center\">1</td><td class=\"hidden-480 text-right\"><a class=\"btn green btn-xs text-right\" href=\"../../../view.aspx?EventID=city2surf&amp;Edition=2009&amp;bib=00563\"><i class=\"fa fa-play\"></i> view</a></td>\n",
       "</tr><tr>\n",
       "<td>73</td><td class=\"hidden-480\">00471</td><td><a href=\"../../../view.aspx?EventID=city2surf&amp;Edition=2009&amp;bib=00471\">GALEN BURRELL</a></td><td class=\"text-center\">00:48:06</td><td class=\"text-center\">00:47:58</td><td class=\"hidden-480 text-center\">73</td><td class=\"hidden-480 text-center\">M</td><td class=\"hidden-480 text-center\">71</td><td class=\"hidden-480 text-center\">M30-34</td><td class=\"hidden-480 text-center\">16</td><td class=\"hidden-480 text-right\"><a class=\"btn green btn-xs text-right\" href=\"../../../view.aspx?EventID=city2surf&amp;Edition=2009&amp;bib=00471\"><i class=\"fa fa-play\"></i> view</a></td>\n",
       "</tr><tr>\n",
       "<td>74</td><td class=\"hidden-480\">00011</td><td><a href=\"../../../view.aspx?EventID=city2surf&amp;Edition=2009&amp;bib=00011\">STUART DOYLE</a></td><td class=\"text-center\">00:48:08</td><td class=\"text-center\">00:48:00</td><td class=\"hidden-480 text-center\">74</td><td class=\"hidden-480 text-center\">M</td><td class=\"hidden-480 text-center\">72</td><td class=\"hidden-480 text-center\">M40-44</td><td class=\"hidden-480 text-center\">2</td><td class=\"hidden-480 text-right\"><a class=\"btn green btn-xs text-right\" href=\"../../../view.aspx?EventID=city2surf&amp;Edition=2009&amp;bib=00011\"><i class=\"fa fa-play\"></i> view</a></td>\n",
       "</tr><tr>\n",
       "<td>75</td><td class=\"hidden-480\">00380</td><td><a href=\"../../../view.aspx?EventID=city2surf&amp;Edition=2009&amp;bib=00380\">EAMON NUNN</a></td><td class=\"text-center\">00:48:09</td><td class=\"text-center\">00:48:01</td><td class=\"hidden-480 text-center\">75</td><td class=\"hidden-480 text-center\">M</td><td class=\"hidden-480 text-center\">73</td><td class=\"hidden-480 text-center\">M35-39</td><td class=\"hidden-480 text-center\">12</td><td class=\"hidden-480 text-right\"><a class=\"btn green btn-xs text-right\" href=\"../../../view.aspx?EventID=city2surf&amp;Edition=2009&amp;bib=00380\"><i class=\"fa fa-play\"></i> view</a></td>\n",
       "</tr><tr>\n",
       "<td>76</td><td class=\"hidden-480\">00260</td><td><a href=\"../../../view.aspx?EventID=city2surf&amp;Edition=2009&amp;bib=00260\">RON PETERS</a></td><td class=\"text-center\">00:48:10</td><td class=\"text-center\">00:48:03</td><td class=\"hidden-480 text-center\">76</td><td class=\"hidden-480 text-center\">M</td><td class=\"hidden-480 text-center\">74</td><td class=\"hidden-480 text-center\">M55-59</td><td class=\"hidden-480 text-center\">1</td><td class=\"hidden-480 text-right\"><a class=\"btn green btn-xs text-right\" href=\"../../../view.aspx?EventID=city2surf&amp;Edition=2009&amp;bib=00260\"><i class=\"fa fa-play\"></i> view</a></td>\n",
       "</tr><tr>\n",
       "<td>77</td><td class=\"hidden-480\">00522</td><td><a href=\"../../../view.aspx?EventID=city2surf&amp;Edition=2009&amp;bib=00522\">ANDREW HEYDEN</a></td><td class=\"text-center\">00:48:12</td><td class=\"text-center\">00:48:04</td><td class=\"hidden-480 text-center\">77</td><td class=\"hidden-480 text-center\">M</td><td class=\"hidden-480 text-center\">75</td><td class=\"hidden-480 text-center\">M35-39</td><td class=\"hidden-480 text-center\">13</td><td class=\"hidden-480 text-right\"><a class=\"btn green btn-xs text-right\" href=\"../../../view.aspx?EventID=city2surf&amp;Edition=2009&amp;bib=00522\"><i class=\"fa fa-play\"></i> view</a></td>\n",
       "</tr><tr>\n",
       "<td>78</td><td class=\"hidden-480\">00326</td><td><a href=\"../../../view.aspx?EventID=city2surf&amp;Edition=2009&amp;bib=00326\">JOHN BINFIELD</a></td><td class=\"text-center\">00:48:14</td><td class=\"text-center\">00:48:04</td><td class=\"hidden-480 text-center\">78</td><td class=\"hidden-480 text-center\">M</td><td class=\"hidden-480 text-center\">76</td><td class=\"hidden-480 text-center\">M25-29</td><td class=\"hidden-480 text-center\">23</td><td class=\"hidden-480 text-right\"><a class=\"btn green btn-xs text-right\" href=\"../../../view.aspx?EventID=city2surf&amp;Edition=2009&amp;bib=00326\"><i class=\"fa fa-play\"></i> view</a></td>\n",
       "</tr><tr>\n",
       "<td>79</td><td class=\"hidden-480\">00047</td><td><a href=\"../../../view.aspx?EventID=city2surf&amp;Edition=2009&amp;bib=00047\">CLARE GERAGHTY</a></td><td class=\"text-center\">00:48:15</td><td class=\"text-center\">00:48:09</td><td class=\"hidden-480 text-center\">79</td><td class=\"hidden-480 text-center\">F</td><td class=\"hidden-480 text-center\">3</td><td class=\"hidden-480 text-center\">F19-24</td><td class=\"hidden-480 text-center\">3</td><td class=\"hidden-480 text-right\"><a class=\"btn green btn-xs text-right\" href=\"../../../view.aspx?EventID=city2surf&amp;Edition=2009&amp;bib=00047\"><i class=\"fa fa-play\"></i> view</a></td>\n",
       "</tr><tr>\n",
       "<td>80</td><td class=\"hidden-480\">00562</td><td><a href=\"../../../view.aspx?EventID=city2surf&amp;Edition=2009&amp;bib=00562\">LAZHAR HAMADI</a></td><td class=\"text-center\">00:48:15</td><td class=\"text-center\">00:48:10</td><td class=\"hidden-480 text-center\">80</td><td class=\"hidden-480 text-center\">M</td><td class=\"hidden-480 text-center\">77</td><td class=\"hidden-480 text-center\">M35-39</td><td class=\"hidden-480 text-center\">14</td><td class=\"hidden-480 text-right\"><a class=\"btn green btn-xs text-right\" href=\"../../../view.aspx?EventID=city2surf&amp;Edition=2009&amp;bib=00562\"><i class=\"fa fa-play\"></i> view</a></td>\n",
       "</tr><tr>\n",
       "<td>81</td><td class=\"hidden-480\">00377</td><td><a href=\"../../../view.aspx?EventID=city2surf&amp;Edition=2009&amp;bib=00377\">HAYDEN PICKERING</a></td><td class=\"text-center\">00:48:17</td><td class=\"text-center\">00:48:08</td><td class=\"hidden-480 text-center\">81</td><td class=\"hidden-480 text-center\">M</td><td class=\"hidden-480 text-center\">78</td><td class=\"hidden-480 text-center\">M25-29</td><td class=\"hidden-480 text-center\">24</td><td class=\"hidden-480 text-right\"><a class=\"btn green btn-xs text-right\" href=\"../../../view.aspx?EventID=city2surf&amp;Edition=2009&amp;bib=00377\"><i class=\"fa fa-play\"></i> view</a></td>\n",
       "</tr><tr>\n",
       "<td>82</td><td class=\"hidden-480\">00043</td><td><a href=\"../../../view.aspx?EventID=city2surf&amp;Edition=2009&amp;bib=00043\">CHRIS TRUSCOTT</a></td><td class=\"text-center\">00:48:22</td><td class=\"text-center\">00:48:17</td><td class=\"hidden-480 text-center\">82</td><td class=\"hidden-480 text-center\">M</td><td class=\"hidden-480 text-center\">79</td><td class=\"hidden-480 text-center\">M35-39</td><td class=\"hidden-480 text-center\">15</td><td class=\"hidden-480 text-right\"><a class=\"btn green btn-xs text-right\" href=\"../../../view.aspx?EventID=city2surf&amp;Edition=2009&amp;bib=00043\"><i class=\"fa fa-play\"></i> view</a></td>\n",
       "</tr><tr>\n",
       "<td>83</td><td class=\"hidden-480\">00131</td><td><a href=\"../../../view.aspx?EventID=city2surf&amp;Edition=2009&amp;bib=00131\">MICHAEL DOWEL</a></td><td class=\"text-center\">00:48:23</td><td class=\"text-center\">00:48:15</td><td class=\"hidden-480 text-center\">83</td><td class=\"hidden-480 text-center\">M</td><td class=\"hidden-480 text-center\">80</td><td class=\"hidden-480 text-center\">M16-18</td><td class=\"hidden-480 text-center\">2</td><td class=\"hidden-480 text-right\"><a class=\"btn green btn-xs text-right\" href=\"../../../view.aspx?EventID=city2surf&amp;Edition=2009&amp;bib=00131\"><i class=\"fa fa-play\"></i> view</a></td>\n",
       "</tr><tr>\n",
       "<td>84</td><td class=\"hidden-480\">00196</td><td><a href=\"../../../view.aspx?EventID=city2surf&amp;Edition=2009&amp;bib=00196\">JASON HALL</a></td><td class=\"text-center\">00:48:23</td><td class=\"text-center\">00:48:18</td><td class=\"hidden-480 text-center\">84</td><td class=\"hidden-480 text-center\">M</td><td class=\"hidden-480 text-center\">81</td><td class=\"hidden-480 text-center\">M16-18</td><td class=\"hidden-480 text-center\">3</td><td class=\"hidden-480 text-right\"><a class=\"btn green btn-xs text-right\" href=\"../../../view.aspx?EventID=city2surf&amp;Edition=2009&amp;bib=00196\"><i class=\"fa fa-play\"></i> view</a></td>\n",
       "</tr><tr>\n",
       "<td>85</td><td class=\"hidden-480\">06644</td><td><a href=\"../../../view.aspx?EventID=city2surf&amp;Edition=2009&amp;bib=06644\">MALCOLM CAMPBELL</a></td><td class=\"text-center\">00:48:32</td><td class=\"text-center\">00:48:26</td><td class=\"hidden-480 text-center\">85</td><td class=\"hidden-480 text-center\">M</td><td class=\"hidden-480 text-center\">82</td><td class=\"hidden-480 text-center\">M35-39</td><td class=\"hidden-480 text-center\">16</td><td class=\"hidden-480 text-right\"><a class=\"btn green btn-xs text-right\" href=\"../../../view.aspx?EventID=city2surf&amp;Edition=2009&amp;bib=06644\"><i class=\"fa fa-play\"></i> view</a></td>\n",
       "</tr><tr>\n",
       "<td>86</td><td class=\"hidden-480\">00371</td><td><a href=\"../../../view.aspx?EventID=city2surf&amp;Edition=2009&amp;bib=00371\">HAMISH GORMAN</a></td><td class=\"text-center\">00:48:33</td><td class=\"text-center\">00:48:21</td><td class=\"hidden-480 text-center\">86</td><td class=\"hidden-480 text-center\">M</td><td class=\"hidden-480 text-center\">83</td><td class=\"hidden-480 text-center\">M19-24</td><td class=\"hidden-480 text-center\">16</td><td class=\"hidden-480 text-right\"><a class=\"btn green btn-xs text-right\" href=\"../../../view.aspx?EventID=city2surf&amp;Edition=2009&amp;bib=00371\"><i class=\"fa fa-play\"></i> view</a></td>\n",
       "</tr><tr>\n",
       "<td>87</td><td class=\"hidden-480\">00348</td><td><a href=\"../../../view.aspx?EventID=city2surf&amp;Edition=2009&amp;bib=00348\">MICHAEL PIERCE</a></td><td class=\"text-center\">00:48:35</td><td class=\"text-center\">00:48:27</td><td class=\"hidden-480 text-center\">87</td><td class=\"hidden-480 text-center\">M</td><td class=\"hidden-480 text-center\">84</td><td class=\"hidden-480 text-center\">M35-39</td><td class=\"hidden-480 text-center\">17</td><td class=\"hidden-480 text-right\"><a class=\"btn green btn-xs text-right\" href=\"../../../view.aspx?EventID=city2surf&amp;Edition=2009&amp;bib=00348\"><i class=\"fa fa-play\"></i> view</a></td>\n",
       "</tr><tr>\n",
       "<td>88</td><td class=\"hidden-480\">00273</td><td><a href=\"../../../view.aspx?EventID=city2surf&amp;Edition=2009&amp;bib=00273\">MATTHEW BIDWELL</a></td><td class=\"text-center\">00:48:35</td><td class=\"text-center\">00:48:28</td><td class=\"hidden-480 text-center\">88</td><td class=\"hidden-480 text-center\">M</td><td class=\"hidden-480 text-center\">85</td><td class=\"hidden-480 text-center\">M35-39</td><td class=\"hidden-480 text-center\">18</td><td class=\"hidden-480 text-right\"><a class=\"btn green btn-xs text-right\" href=\"../../../view.aspx?EventID=city2surf&amp;Edition=2009&amp;bib=00273\"><i class=\"fa fa-play\"></i> view</a></td>\n",
       "</tr><tr>\n",
       "<td>89</td><td class=\"hidden-480\">00172</td><td><a href=\"../../../view.aspx?EventID=city2surf&amp;Edition=2009&amp;bib=00172\">ROD CHISHOLM</a></td><td class=\"text-center\">00:48:36</td><td class=\"text-center\">00:48:30</td><td class=\"hidden-480 text-center\">89</td><td class=\"hidden-480 text-center\">M</td><td class=\"hidden-480 text-center\">86</td><td class=\"hidden-480 text-center\">M35-39</td><td class=\"hidden-480 text-center\">19</td><td class=\"hidden-480 text-right\"><a class=\"btn green btn-xs text-right\" href=\"../../../view.aspx?EventID=city2surf&amp;Edition=2009&amp;bib=00172\"><i class=\"fa fa-play\"></i> view</a></td>\n",
       "</tr><tr>\n",
       "<td>90</td><td class=\"hidden-480\">00455</td><td><a href=\"../../../view.aspx?EventID=city2surf&amp;Edition=2009&amp;bib=00455\">RICHARD JOHN FOGARTY</a></td><td class=\"text-center\">00:48:38</td><td class=\"text-center\">00:48:32</td><td class=\"hidden-480 text-center\">90</td><td class=\"hidden-480 text-center\">M</td><td class=\"hidden-480 text-center\">87</td><td class=\"hidden-480 text-center\">M30-34</td><td class=\"hidden-480 text-center\">17</td><td class=\"hidden-480 text-right\"><a class=\"btn green btn-xs text-right\" href=\"../../../view.aspx?EventID=city2surf&amp;Edition=2009&amp;bib=00455\"><i class=\"fa fa-play\"></i> view</a></td>\n",
       "</tr><tr>\n",
       "<td>91</td><td class=\"hidden-480\">00244</td><td><a href=\"../../../view.aspx?EventID=city2surf&amp;Edition=2009&amp;bib=00244\">MASAYUKI ATSUMI</a></td><td class=\"text-center\">00:48:39</td><td class=\"text-center\">00:48:30</td><td class=\"hidden-480 text-center\">91</td><td class=\"hidden-480 text-center\">M</td><td class=\"hidden-480 text-center\">88</td><td class=\"hidden-480 text-center\">M25-29</td><td class=\"hidden-480 text-center\">25</td><td class=\"hidden-480 text-right\"><a class=\"btn green btn-xs text-right\" href=\"../../../view.aspx?EventID=city2surf&amp;Edition=2009&amp;bib=00244\"><i class=\"fa fa-play\"></i> view</a></td>\n",
       "</tr><tr>\n",
       "<td>92</td><td class=\"hidden-480\">00252</td><td><a href=\"../../../view.aspx?EventID=city2surf&amp;Edition=2009&amp;bib=00252\">LAURIE CULLEN</a></td><td class=\"text-center\">00:48:39</td><td class=\"text-center\">00:48:30</td><td class=\"hidden-480 text-center\">92</td><td class=\"hidden-480 text-center\">M</td><td class=\"hidden-480 text-center\">89</td><td class=\"hidden-480 text-center\">M40-44</td><td class=\"hidden-480 text-center\">3</td><td class=\"hidden-480 text-right\"><a class=\"btn green btn-xs text-right\" href=\"../../../view.aspx?EventID=city2surf&amp;Edition=2009&amp;bib=00252\"><i class=\"fa fa-play\"></i> view</a></td>\n",
       "</tr><tr>\n",
       "<td>93</td><td class=\"hidden-480\">00175</td><td><a href=\"../../../view.aspx?EventID=city2surf&amp;Edition=2009&amp;bib=00175\">NICK HORSPOOL</a></td><td class=\"text-center\">00:48:39</td><td class=\"text-center\">00:48:32</td><td class=\"hidden-480 text-center\">93</td><td class=\"hidden-480 text-center\">M</td><td class=\"hidden-480 text-center\">90</td><td class=\"hidden-480 text-center\">M25-29</td><td class=\"hidden-480 text-center\">26</td><td class=\"hidden-480 text-right\"><a class=\"btn green btn-xs text-right\" href=\"../../../view.aspx?EventID=city2surf&amp;Edition=2009&amp;bib=00175\"><i class=\"fa fa-play\"></i> view</a></td>\n",
       "</tr><tr>\n",
       "<td>94</td><td class=\"hidden-480\">00387</td><td><a href=\"../../../view.aspx?EventID=city2surf&amp;Edition=2009&amp;bib=00387\">ANDREW WILSON</a></td><td class=\"text-center\">00:48:40</td><td class=\"text-center\">00:48:32</td><td class=\"hidden-480 text-center\">94</td><td class=\"hidden-480 text-center\">M</td><td class=\"hidden-480 text-center\">91</td><td class=\"hidden-480 text-center\">M45-49</td><td class=\"hidden-480 text-center\">3</td><td class=\"hidden-480 text-right\"><a class=\"btn green btn-xs text-right\" href=\"../../../view.aspx?EventID=city2surf&amp;Edition=2009&amp;bib=00387\"><i class=\"fa fa-play\"></i> view</a></td>\n",
       "</tr><tr>\n",
       "<td>95</td><td class=\"hidden-480\">00382</td><td><a href=\"../../../view.aspx?EventID=city2surf&amp;Edition=2009&amp;bib=00382\">GREGORY GRAVES</a></td><td class=\"text-center\">00:48:41</td><td class=\"text-center\">00:48:34</td><td class=\"hidden-480 text-center\">95</td><td class=\"hidden-480 text-center\">M</td><td class=\"hidden-480 text-center\">92</td><td class=\"hidden-480 text-center\">M30-34</td><td class=\"hidden-480 text-center\">18</td><td class=\"hidden-480 text-right\"><a class=\"btn green btn-xs text-right\" href=\"../../../view.aspx?EventID=city2surf&amp;Edition=2009&amp;bib=00382\"><i class=\"fa fa-play\"></i> view</a></td>\n",
       "</tr><tr>\n",
       "<td>96</td><td class=\"hidden-480\">00420</td><td><a href=\"../../../view.aspx?EventID=city2surf&amp;Edition=2009&amp;bib=00420\">ALEXANDER PRICE</a></td><td class=\"text-center\">00:48:44</td><td class=\"text-center\">00:48:32</td><td class=\"hidden-480 text-center\">96</td><td class=\"hidden-480 text-center\">M</td><td class=\"hidden-480 text-center\">93</td><td class=\"hidden-480 text-center\">M25-29</td><td class=\"hidden-480 text-center\">27</td><td class=\"hidden-480 text-right\"><a class=\"btn green btn-xs text-right\" href=\"../../../view.aspx?EventID=city2surf&amp;Edition=2009&amp;bib=00420\"><i class=\"fa fa-play\"></i> view</a></td>\n",
       "</tr><tr>\n",
       "<td>97</td><td class=\"hidden-480\">00141</td><td><a href=\"../../../view.aspx?EventID=city2surf&amp;Edition=2009&amp;bib=00141\">JIM DAWES</a></td><td class=\"text-center\">00:48:44</td><td class=\"text-center\">00:48:35</td><td class=\"hidden-480 text-center\">97</td><td class=\"hidden-480 text-center\">M</td><td class=\"hidden-480 text-center\">94</td><td class=\"hidden-480 text-center\">M35-39</td><td class=\"hidden-480 text-center\">20</td><td class=\"hidden-480 text-right\"><a class=\"btn green btn-xs text-right\" href=\"../../../view.aspx?EventID=city2surf&amp;Edition=2009&amp;bib=00141\"><i class=\"fa fa-play\"></i> view</a></td>\n",
       "</tr><tr>\n",
       "<td>98</td><td class=\"hidden-480\">00372</td><td><a href=\"../../../view.aspx?EventID=city2surf&amp;Edition=2009&amp;bib=00372\">MATTHEW PALMER</a></td><td class=\"text-center\">00:48:56</td><td class=\"text-center\">00:48:49</td><td class=\"hidden-480 text-center\">98</td><td class=\"hidden-480 text-center\">M</td><td class=\"hidden-480 text-center\">95</td><td class=\"hidden-480 text-center\">M30-34</td><td class=\"hidden-480 text-center\">19</td><td class=\"hidden-480 text-right\"><a class=\"btn green btn-xs text-right\" href=\"../../../view.aspx?EventID=city2surf&amp;Edition=2009&amp;bib=00372\"><i class=\"fa fa-play\"></i> view</a></td>\n",
       "</tr><tr>\n",
       "<td>99</td><td class=\"hidden-480\">00040</td><td><a href=\"../../../view.aspx?EventID=city2surf&amp;Edition=2009&amp;bib=00040\">ROBERT LANSDOWN</a></td><td class=\"text-center\">00:48:57</td><td class=\"text-center\">00:48:50</td><td class=\"hidden-480 text-center\">99</td><td class=\"hidden-480 text-center\">M</td><td class=\"hidden-480 text-center\">96</td><td class=\"hidden-480 text-center\">M25-29</td><td class=\"hidden-480 text-center\">28</td><td class=\"hidden-480 text-right\"><a class=\"btn green btn-xs text-right\" href=\"../../../view.aspx?EventID=city2surf&amp;Edition=2009&amp;bib=00040\"><i class=\"fa fa-play\"></i> view</a></td>\n",
       "</tr><tr>\n",
       "<td>100</td><td class=\"hidden-480\">00065</td><td><a href=\"../../../view.aspx?EventID=city2surf&amp;Edition=2009&amp;bib=00065\">ALAN O SHEA</a></td><td class=\"text-center\">00:49:01</td><td class=\"text-center\">00:48:54</td><td class=\"hidden-480 text-center\">100</td><td class=\"hidden-480 text-center\">M</td><td class=\"hidden-480 text-center\">97</td><td class=\"hidden-480 text-center\">M25-29</td><td class=\"hidden-480 text-center\">29</td><td class=\"hidden-480 text-right\"><a class=\"btn green btn-xs text-right\" href=\"../../../view.aspx?EventID=city2surf&amp;Edition=2009&amp;bib=00065\"><i class=\"fa fa-play\"></i> view</a></td>\n",
       "</tr>\n",
       "</table>"
      ],
      "text/plain": [
       "<IPython.core.display.HTML object>"
      ]
     },
     "execution_count": 195,
     "metadata": {},
     "output_type": "execute_result"
    }
   ],
   "source": [
    "table = soup.find(\"table\")\n",
    "HTML(str(table))"
   ]
  },
  {
   "cell_type": "markdown",
   "metadata": {},
   "source": [
    "So the first page of results lists a hundred entries, which we can read this into a dataframe:"
   ]
  },
  {
   "cell_type": "code",
   "execution_count": 199,
   "metadata": {},
   "outputs": [
    {
     "name": "stdout",
     "output_type": "stream",
     "text": [
      "(100, 11)\n"
     ]
    },
    {
     "data": {
      "text/html": [
       "<div>\n",
       "<style>\n",
       "    .dataframe thead tr:only-child th {\n",
       "        text-align: right;\n",
       "    }\n",
       "\n",
       "    .dataframe thead th {\n",
       "        text-align: left;\n",
       "    }\n",
       "\n",
       "    .dataframe tbody tr th {\n",
       "        vertical-align: top;\n",
       "    }\n",
       "</style>\n",
       "<table border=\"1\" class=\"dataframe\">\n",
       "  <thead>\n",
       "    <tr style=\"text-align: right;\">\n",
       "      <th></th>\n",
       "      <th>#</th>\n",
       "      <th>Bib</th>\n",
       "      <th>Name</th>\n",
       "      <th>Finish Time</th>\n",
       "      <th>Net Time</th>\n",
       "      <th>Place</th>\n",
       "      <th>Gender</th>\n",
       "      <th>G/Pl</th>\n",
       "      <th>Division</th>\n",
       "      <th>D/Pl</th>\n",
       "      <th>Unnamed: 10</th>\n",
       "    </tr>\n",
       "  </thead>\n",
       "  <tbody>\n",
       "    <tr>\n",
       "      <th>0</th>\n",
       "      <td>1</td>\n",
       "      <td>64</td>\n",
       "      <td>MICHAEL SHELLEY</td>\n",
       "      <td>00:41:02</td>\n",
       "      <td>00:40:57</td>\n",
       "      <td>1</td>\n",
       "      <td>M</td>\n",
       "      <td>1</td>\n",
       "      <td>M25-29</td>\n",
       "      <td>1</td>\n",
       "      <td>view</td>\n",
       "    </tr>\n",
       "    <tr>\n",
       "      <th>1</th>\n",
       "      <td>2</td>\n",
       "      <td>59</td>\n",
       "      <td>BEN ST LAWRENCE</td>\n",
       "      <td>00:41:12</td>\n",
       "      <td>00:41:07</td>\n",
       "      <td>2</td>\n",
       "      <td>M</td>\n",
       "      <td>2</td>\n",
       "      <td>M25-29</td>\n",
       "      <td>2</td>\n",
       "      <td>view</td>\n",
       "    </tr>\n",
       "    <tr>\n",
       "      <th>2</th>\n",
       "      <td>3</td>\n",
       "      <td>67</td>\n",
       "      <td>CLINT PERRETT</td>\n",
       "      <td>00:41:52</td>\n",
       "      <td>00:41:47</td>\n",
       "      <td>3</td>\n",
       "      <td>M</td>\n",
       "      <td>3</td>\n",
       "      <td>M25-29</td>\n",
       "      <td>3</td>\n",
       "      <td>view</td>\n",
       "    </tr>\n",
       "    <tr>\n",
       "      <th>3</th>\n",
       "      <td>4</td>\n",
       "      <td>86</td>\n",
       "      <td>CHRIS HAMER</td>\n",
       "      <td>00:42:22</td>\n",
       "      <td>00:42:17</td>\n",
       "      <td>4</td>\n",
       "      <td>M</td>\n",
       "      <td>4</td>\n",
       "      <td>M19-24</td>\n",
       "      <td>1</td>\n",
       "      <td>view</td>\n",
       "    </tr>\n",
       "    <tr>\n",
       "      <th>4</th>\n",
       "      <td>5</td>\n",
       "      <td>54</td>\n",
       "      <td>ERWIN MCRAE</td>\n",
       "      <td>00:42:29</td>\n",
       "      <td>00:42:24</td>\n",
       "      <td>5</td>\n",
       "      <td>M</td>\n",
       "      <td>5</td>\n",
       "      <td>M30-34</td>\n",
       "      <td>1</td>\n",
       "      <td>view</td>\n",
       "    </tr>\n",
       "  </tbody>\n",
       "</table>\n",
       "</div>"
      ],
      "text/plain": [
       "   #  Bib             Name Finish Time  Net Time  Place Gender  G/Pl Division  \\\n",
       "0  1   64  MICHAEL SHELLEY    00:41:02  00:40:57      1      M     1   M25-29   \n",
       "1  2   59  BEN ST LAWRENCE    00:41:12  00:41:07      2      M     2   M25-29   \n",
       "2  3   67    CLINT PERRETT    00:41:52  00:41:47      3      M     3   M25-29   \n",
       "3  4   86      CHRIS HAMER    00:42:22  00:42:17      4      M     4   M19-24   \n",
       "4  5   54      ERWIN MCRAE    00:42:29  00:42:24      5      M     5   M30-34   \n",
       "\n",
       "   D/Pl Unnamed: 10  \n",
       "0     1        view  \n",
       "1     2        view  \n",
       "2     3        view  \n",
       "3     1        view  \n",
       "4     1        view  "
      ]
     },
     "execution_count": 199,
     "metadata": {},
     "output_type": "execute_result"
    }
   ],
   "source": [
    "df = pd.read_html(table.prettify(), header=0)[0]\n",
    "print(df.shape)\n",
    "df.head()"
   ]
  },
  {
   "cell_type": "markdown",
   "metadata": {},
   "source": [
    "Now, how do I paginate through the results so I get all of them?"
   ]
  },
  {
   "cell_type": "markdown",
   "metadata": {},
   "source": [
    "Now, how do I paginate through the results so I get all of them? the results are displayed in a javascripty thing, and the next button is a javascript button which loads the next 100 results on the same page."
   ]
  }
 ],
 "metadata": {
  "kernelspec": {
   "display_name": "Python 3",
   "language": "python",
   "name": "python3"
  },
  "language_info": {
   "codemirror_mode": {
    "name": "ipython",
    "version": 3
   },
   "file_extension": ".py",
   "mimetype": "text/x-python",
   "name": "python",
   "nbconvert_exporter": "python",
   "pygments_lexer": "ipython3",
   "version": "3.6.1"
  }
 },
 "nbformat": 4,
 "nbformat_minor": 2
}
